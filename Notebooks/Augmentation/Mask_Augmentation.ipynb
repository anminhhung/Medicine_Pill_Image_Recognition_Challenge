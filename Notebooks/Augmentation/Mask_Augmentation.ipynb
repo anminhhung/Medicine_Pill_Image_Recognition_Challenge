{
  "nbformat": 4,
  "nbformat_minor": 0,
  "metadata": {
    "colab": {
      "name": "Mask_Augmentation.ipynb",
      "provenance": [],
      "collapsed_sections": []
    },
    "kernelspec": {
      "name": "python3",
      "display_name": "Python 3"
    },
    "language_info": {
      "name": "python"
    }
  },
  "cells": [
    {
      "cell_type": "markdown",
      "source": [
        "**Every augment methods deal with gray scale images.**\n",
        "\n",
        "Flow:\n",
        "\n",
        "1.Convert Mask to Gray (0->0, 1->255)\n",
        "\n",
        "2.Augmenting\n",
        "\n",
        "3.Convert Gray back to Mask (vversa)"
      ],
      "metadata": {
        "id": "7zPcYkjLajwA"
      }
    },
    {
      "cell_type": "markdown",
      "source": [
        "#Import Lib"
      ],
      "metadata": {
        "id": "BG2pNkR6a34C"
      }
    },
    {
      "cell_type": "code",
      "execution_count": 48,
      "metadata": {
        "id": "J5x1sIGotRV3"
      },
      "outputs": [],
      "source": [
        "import numpy as np\n",
        "import cv2\n",
        "import math\n",
        "from google.colab.patches import cv2_imshow\n",
        "import random\n",
        "from matplotlib import pyplot as plt\n",
        "import albumentations as albu"
      ]
    },
    {
      "cell_type": "markdown",
      "source": [
        "Mask you want to augment"
      ],
      "metadata": {
        "id": "EHyed8_Za81K"
      }
    },
    {
      "cell_type": "code",
      "source": [
        "image_pth='/content/0002-3239_0_0.jpg'\n",
        "img=cv2.imread(image_pth,0)\n",
        "cv2_imshow(img)"
      ],
      "metadata": {
        "colab": {
          "base_uri": "https://localhost:8080/",
          "height": 241
        },
        "id": "nL6AOM-7tw6e",
        "outputId": "14ec77c6-7834-44b8-8972-a0f2012b0c03"
      },
      "execution_count": 102,
      "outputs": [
        {
          "output_type": "display_data",
          "data": {
            "text/plain": [
              "<PIL.Image.Image image mode=L size=224x224 at 0x7FCC68C71290>"
            ],
            "image/png": "[encoded data removed]"
          },
          "metadata": {}
        }
      ]
    },
    {
      "cell_type": "code",
      "source": [
        "def mask2gray(mask):\n",
        "  img=np.where(mask==0,0,255)\n",
        "  return img\n",
        "def gray2mask(gray):\n",
        "  img=np.where(gray==0,0,1)\n",
        "  return img"
      ],
      "metadata": {
        "id": "aubBAOuYWhRb"
      },
      "execution_count": 117,
      "outputs": []
    },
    {
      "cell_type": "code",
      "source": [
        "cv2_imshow(mask2gray(img))"
      ],
      "metadata": {
        "colab": {
          "base_uri": "https://localhost:8080/",
          "height": 241
        },
        "id": "HAETcS-IXWaB",
        "outputId": "6f2a2689-fd18-48c1-b1cb-06374eeb8c13"
      },
      "execution_count": 118,
      "outputs": [
        {
          "output_type": "display_data",
          "data": {
            "text/plain": [
              "<PIL.Image.Image image mode=L size=224x224 at 0x7FCC46F60ED0>"
            ],
            "image/png": "[encoded data removed]"
          },
          "metadata": {}
        }
      ]
    },
    {
      "cell_type": "markdown",
      "source": [
        "#DATA AUGMENTATION"
      ],
      "metadata": {
        "id": "9D7_3H2Zu6LW"
      }
    },
    {
      "cell_type": "markdown",
      "source": [
        "##Radom Rotate"
      ],
      "metadata": {
        "id": "DFOdo2HfIJYf"
      }
    },
    {
      "cell_type": "code",
      "source": [
        "def warpAffine(src, M, dsize):\n",
        "  return cv2.warpAffine(src, M, dsize)\n",
        "def rotate_image(image, angle):\n",
        "  \"\"\"\n",
        "  Rotate image angle degree\n",
        "  \"\"\"\n",
        "  (h, w) = image.shape[:2]\n",
        "  (cX, cY) = (w // 2, h // 2)\n",
        "\n",
        "  M = cv2.getRotationMatrix2D((cX, cY), angle, 1.0)\n",
        "  cos = np.abs(M[0, 0])\n",
        "  sin = np.abs(M[0, 1])\n",
        "\n",
        "  nW = int((h * sin) + (w * cos))\n",
        "  nH = int((h * cos) + (w * sin))\n",
        "\n",
        "  M[0, 2] += (nW / 2) - cX\n",
        "  M[1, 2] += (nH / 2) - cY\n",
        "\n",
        "  image = warpAffine(image, M, (nW, nH))\n",
        "\n",
        "  return image"
      ],
      "metadata": {
        "id": "EFc-KDxgu401"
      },
      "execution_count": 23,
      "outputs": []
    },
    {
      "cell_type": "code",
      "source": [
        "cv2_imshow(rotate_image(img,125))"
      ],
      "metadata": {
        "colab": {
          "base_uri": "https://localhost:8080/",
          "height": 328
        },
        "id": "5clBktaJvssM",
        "outputId": "5d9741d4-608f-4539-c2b4-401ddcd86e86"
      },
      "execution_count": 30,
      "outputs": [
        {
          "output_type": "display_data",
          "data": {
            "text/plain": [
              "<PIL.Image.Image image mode=L size=311x311 at 0x7FCC68A83F90>"
            ],
            "image/png": "[encoded data removed]"
          },
          "metadata": {}
        }
      ]
    },
    {
      "cell_type": "markdown",
      "source": [
        "##Flip Horizontal"
      ],
      "metadata": {
        "id": "AiYU73W4Ievy"
      }
    },
    {
      "cell_type": "code",
      "source": [
        "def flip_horizontal(image):\n",
        "  \"\"\"\n",
        "  Flip image horizontally\n",
        "  \"\"\"\n",
        "  return image[::-1,:]"
      ],
      "metadata": {
        "id": "uGfpo36VJSsK"
      },
      "execution_count": 37,
      "outputs": []
    },
    {
      "cell_type": "code",
      "source": [
        "cv2_imshow(flip_horizontal(img))"
      ],
      "metadata": {
        "colab": {
          "base_uri": "https://localhost:8080/",
          "height": 241
        },
        "id": "vbY07RinJdbd",
        "outputId": "b3f96d15-f61f-4f31-ffae-aea16c2c4532"
      },
      "execution_count": 38,
      "outputs": [
        {
          "output_type": "display_data",
          "data": {
            "text/plain": [
              "<PIL.Image.Image image mode=L size=224x224 at 0x7FCC68A815D0>"
            ],
            "image/png": "[encoded data removed]"
          },
          "metadata": {}
        }
      ]
    },
    {
      "cell_type": "markdown",
      "source": [
        "##Flip Vertical"
      ],
      "metadata": {
        "id": "5DdYezFXJ199"
      }
    },
    {
      "cell_type": "code",
      "source": [
        "def flip_vertical(image):\n",
        "  \"\"\"\n",
        "  Flip image vertically\n",
        "  \"\"\"\n",
        "  return image[:,::-1]"
      ],
      "metadata": {
        "id": "uFdotNtQJ39l"
      },
      "execution_count": 35,
      "outputs": []
    },
    {
      "cell_type": "code",
      "source": [
        "cv2_imshow(flip_vertical(img))"
      ],
      "metadata": {
        "colab": {
          "base_uri": "https://localhost:8080/",
          "height": 241
        },
        "id": "dXRo6wlHKFVZ",
        "outputId": "80ac42da-28ae-47a0-b3a7-a5469cea66e0"
      },
      "execution_count": 36,
      "outputs": [
        {
          "output_type": "display_data",
          "data": {
            "text/plain": [
              "<PIL.Image.Image image mode=L size=224x224 at 0x7FCC68B493D0>"
            ],
            "image/png": "[encoded data removed]"
          },
          "metadata": {}
        }
      ]
    },
    {
      "cell_type": "markdown",
      "source": [
        "##Transpose"
      ],
      "metadata": {
        "id": "uzFNagzEKpgl"
      }
    },
    {
      "cell_type": "code",
      "source": [
        "def flip_transpose(image):\n",
        "  \"\"\"\n",
        "  Tranpose image\n",
        "  \"\"\"\n",
        "  return image.transpose()"
      ],
      "metadata": {
        "id": "oniw_msfKoSb"
      },
      "execution_count": 46,
      "outputs": []
    },
    {
      "cell_type": "code",
      "source": [
        "cv2_imshow(flip_transpose(img))"
      ],
      "metadata": {
        "colab": {
          "base_uri": "https://localhost:8080/",
          "height": 241
        },
        "id": "cCczAJF4K1IU",
        "outputId": "7ce30d3f-34e4-474d-c928-93a0b56f1194"
      },
      "execution_count": 47,
      "outputs": [
        {
          "output_type": "display_data",
          "data": {
            "text/plain": [
              "<PIL.Image.Image image mode=L size=224x224 at 0x7FCC68A93FD0>"
            ],
            "image/png": "[encoded data removed]"
          },
          "metadata": {}
        }
      ]
    },
    {
      "cell_type": "markdown",
      "source": [
        "##Random Crop"
      ],
      "metadata": {
        "id": "FiKlGib2MLFM"
      }
    },
    {
      "cell_type": "code",
      "source": [
        "def crop_random(image,seed):\n",
        "  \"\"\"\n",
        "  Crop an image with random seed\n",
        "  Cropped image will always be a square\n",
        "  lenght of edge of a square =[miniheight,maxiheight]\n",
        "  \"\"\"\n",
        "  miniheight=45\n",
        "  maxiheight=200\n",
        "\n",
        "  h,w=image.shape\n",
        "  aug = albu.RandomSizedCrop(min_max_height=(miniheight, maxiheight), height=h, width=w, p=1)\n",
        "  random.seed(seed)\n",
        "  augmented = aug(image=image)\n",
        "  image_scaled = augmented['image']\n",
        "  return image_scaled"
      ],
      "metadata": {
        "id": "HjEdMtuTMKwe"
      },
      "execution_count": 59,
      "outputs": []
    },
    {
      "cell_type": "code",
      "source": [
        "cv2_imshow(crop_random(img,11))"
      ],
      "metadata": {
        "colab": {
          "base_uri": "https://localhost:8080/",
          "height": 241
        },
        "id": "zZ0VB3DVMwW-",
        "outputId": "d06fee7d-19f2-49f5-ee4a-eb6e1e33d571"
      },
      "execution_count": 63,
      "outputs": [
        {
          "output_type": "display_data",
          "data": {
            "text/plain": [
              "<PIL.Image.Image image mode=L size=224x224 at 0x7FCC4F5E6610>"
            ],
            "image/png": "[encoded data removed]"
          },
          "metadata": {}
        }
      ]
    },
    {
      "cell_type": "markdown",
      "source": [
        "##Elastic transform"
      ],
      "metadata": {
        "id": "Wp_HNkxmPJXQ"
      }
    },
    {
      "cell_type": "code",
      "source": [
        "def elastic_transform(image,seed):\n",
        "  \"\"\"\n",
        "  Elastic Transform with random seed\n",
        "  Distort an image\n",
        "  \"\"\"\n",
        "  aug = albu.ElasticTransform(p=1, alpha=120, sigma=120 * 0.05, alpha_affine=120 * 0.03)\n",
        "  random.seed(seed)\n",
        "  augmented = aug(image=image)\n",
        "  image_elastic = augmented['image']\n",
        "  return image_elastic"
      ],
      "metadata": {
        "id": "uTaLJFCGPIZc"
      },
      "execution_count": 81,
      "outputs": []
    },
    {
      "cell_type": "code",
      "source": [
        "cv2_imshow(elastic_transform(img,11))"
      ],
      "metadata": {
        "id": "o4hcI0jVPdP0"
      },
      "execution_count": null,
      "outputs": []
    },
    {
      "cell_type": "markdown",
      "source": [
        "##Rectangle cutout"
      ],
      "metadata": {
        "id": "Lt0tN8sTSbt8"
      }
    },
    {
      "cell_type": "code",
      "source": [
        "def rec_cut(image, length):\n",
        "  \"\"\"\n",
        "  Cutout a square lenght from an image \n",
        "  \"\"\"\n",
        "  h,w=img.shape\n",
        "  y = np.random.randint(h)\n",
        "  x = np.random.randint(w)\n",
        "\n",
        "  y1 = np.clip(y - length // 2, 0, h)\n",
        "  y2 = np.clip(y + length // 2, 0, h)\n",
        "  x1 = np.clip(x - length // 2, 0, w)\n",
        "  x2 = np.clip(x + length // 2, 0, w)\n",
        "  tmp = image.copy()\n",
        "  tmp[y1: y2, x1: x2] = 255\n",
        "  return tmp"
      ],
      "metadata": {
        "id": "yW0S7JXOSaHI"
      },
      "execution_count": 98,
      "outputs": []
    },
    {
      "cell_type": "code",
      "source": [
        "cv2_imshow(rec_cut(img,30))"
      ],
      "metadata": {
        "colab": {
          "base_uri": "https://localhost:8080/",
          "height": 241
        },
        "id": "zVA420OQTE3o",
        "outputId": "9a0686e5-2018-4625-f116-1e2ecbbf48bb"
      },
      "execution_count": 103,
      "outputs": [
        {
          "output_type": "display_data",
          "data": {
            "text/plain": [
              "<PIL.Image.Image image mode=L size=224x224 at 0x7FCC47117810>"
            ],
            "image/png": "[encoded data removed]"
          },
          "metadata": {}
        }
      ]
    },
    {
      "cell_type": "markdown",
      "source": [
        "##Circle cutout"
      ],
      "metadata": {
        "id": "4YjzhnPkWCaW"
      }
    },
    {
      "cell_type": "code",
      "source": [
        "def cir_cut(image, length):\n",
        "  \"\"\"\n",
        "  Cutout a circle radius length from an image \n",
        "  \"\"\"\n",
        "  h,w=img.shape\n",
        "  y = np.random.randint(h)\n",
        "  x = np.random.randint(w)\n",
        "  tmp = image.copy()\n",
        "  for i in range(h):\n",
        "    for j in range(w):\n",
        "      if((i-y)**2+(j-x)**2)<=length**2:\n",
        "        tmp[i,j]=255\n",
        "  return tmp"
      ],
      "metadata": {
        "id": "ZJtKcMuUVMvG"
      },
      "execution_count": 104,
      "outputs": []
    },
    {
      "cell_type": "code",
      "source": [
        "cv2_imshow(cir_cut(img,30))"
      ],
      "metadata": {
        "colab": {
          "base_uri": "https://localhost:8080/",
          "height": 241
        },
        "id": "MrkMLeaSVnoC",
        "outputId": "723ac7dd-29ae-4f41-f02d-33d1fd733fb4"
      },
      "execution_count": 110,
      "outputs": [
        {
          "output_type": "display_data",
          "data": {
            "text/plain": [
              "<PIL.Image.Image image mode=L size=224x224 at 0x7FCC498D8450>"
            ],
            "image/png": "[encoded data removed]"
          },
          "metadata": {}
        }
      ]
    },
    {
      "cell_type": "markdown",
      "source": [
        "##Convolution"
      ],
      "metadata": {
        "id": "RQrQR8Z7Yip1"
      }
    },
    {
      "cell_type": "code",
      "source": [
        "def conv(image,kernel):\n",
        "  \"\"\"\n",
        "  kernel: numpy array\n",
        "  Convolution image with kernel\n",
        "  Kernel: blur, edge, sharp,... <google>\n",
        "  \"\"\"\n",
        "  result=cv2.filter2D(image,-1,kernel) \n",
        "  return result"
      ],
      "metadata": {
        "id": "erC-4tYpYkVi"
      },
      "execution_count": 119,
      "outputs": []
    },
    {
      "cell_type": "code",
      "source": [
        "kernel=np.array([[1,0,-1],[2,0,-2],[1,0,-1]])\n",
        "cv2_imshow(conv(img,kernel))"
      ],
      "metadata": {
        "colab": {
          "base_uri": "https://localhost:8080/",
          "height": 241
        },
        "id": "cyD9BuB4Y-ij",
        "outputId": "b46defa8-7ce9-4c4a-eaeb-2aef6534c47f"
      },
      "execution_count": 120,
      "outputs": [
        {
          "output_type": "display_data",
          "data": {
            "text/plain": [
              "<PIL.Image.Image image mode=L size=224x224 at 0x7FCC46EF1750>"
            ],
            "image/png": "[encoded data removed]"
          },
          "metadata": {}
        }
      ]
    },
    {
      "cell_type": "markdown",
      "source": [
        "##Dilation & Erosion"
      ],
      "metadata": {
        "id": "2PXMjeNCZZb_"
      }
    },
    {
      "cell_type": "code",
      "source": [
        "def dilation(image,kernel,iter):\n",
        "  \"\"\"\n",
        "  kernel: numpy array\n",
        "  Dilation image with kernel\n",
        "  iteration\n",
        "  \"\"\"\n",
        "  img_dilation = cv2.dilate(img, kernel, iterations=iter)\n",
        "  return img_dilation\n",
        "\n",
        "def erosion(image,kernel,iter):\n",
        "  \"\"\"\n",
        "  kernel: numpy array\n",
        "  Dilation image with kernel\n",
        "  iteration\n",
        "  \"\"\"\n",
        "  img_erosion = cv2.erode(img, kernel, iterations=iter)\n",
        "  return img_erosion"
      ],
      "metadata": {
        "id": "2d8YIuBDZe0l"
      },
      "execution_count": 125,
      "outputs": []
    },
    {
      "cell_type": "code",
      "source": [
        "kernel = np.ones((5,5), np.uint8)\n",
        "cv2_imshow(dilation(img,kernel,1))"
      ],
      "metadata": {
        "colab": {
          "base_uri": "https://localhost:8080/",
          "height": 241
        },
        "id": "FdVBxGjYZpbz",
        "outputId": "8065f15c-9a31-4adf-a8cb-fb438e5ade55"
      },
      "execution_count": 126,
      "outputs": [
        {
          "output_type": "display_data",
          "data": {
            "text/plain": [
              "<PIL.Image.Image image mode=L size=224x224 at 0x7FCC46F655D0>"
            ],
            "image/png": "[encoded data removed]"
          },
          "metadata": {}
        }
      ]
    },
    {
      "cell_type": "code",
      "source": [
        "cv2_imshow(erosion(img,kernel,1))"
      ],
      "metadata": {
        "colab": {
          "base_uri": "https://localhost:8080/",
          "height": 241
        },
        "id": "5kvde2jtaEXU",
        "outputId": "7c4f0170-57a7-4e70-edbb-d87916bffded"
      },
      "execution_count": 127,
      "outputs": [
        {
          "output_type": "display_data",
          "data": {
            "text/plain": [
              "<PIL.Image.Image image mode=L size=224x224 at 0x7FCC46F4ECD0>"
            ],
            "image/png": "[encoded data removed]"
          },
          "metadata": {}
        }
      ]
    }
  ]
}