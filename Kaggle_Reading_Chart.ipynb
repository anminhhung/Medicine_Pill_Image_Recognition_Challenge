{
  "nbformat": 4,
  "nbformat_minor": 0,
  "metadata": {
    "colab": {
      "provenance": [],
      "authorship_tag": "ABX9TyN47biF4ZHRcHCnwy3qCrDD",
      "include_colab_link": true
    },
    "kernelspec": {
      "name": "python3",
      "display_name": "Python 3"
    },
    "language_info": {
      "name": "python"
    },
    "accelerator": "GPU",
    "gpuClass": "standard"
  },
  "cells": [
    {
      "cell_type": "markdown",
      "metadata": {
        "id": "view-in-github",
        "colab_type": "text"
      },
      "source": [
        "<a href=\"https://colab.research.google.com/github/anminhhung/Medicine_Pill_Image_Recognition_Challenge/blob/main/Kaggle_Reading_Chart.ipynb\" target=\"_parent\"><img src=\"https://colab.research.google.com/assets/colab-badge.svg\" alt=\"Open In Colab\"/></a>"
      ]
    },
    {
      "cell_type": "code",
      "source": [
        "from glob import glob\n",
        "import PIL.Image as Image\n",
        "import numpy as np\n",
        "import matplotlib.pyplot as plt\n",
        "import matplotlib.patches as patches\n",
        "import pandas as pd\n",
        "import json\n",
        "import ast\n",
        "import cv2\n",
        "from google.colab.patches import cv2_imshow"
      ],
      "metadata": {
        "id": "Lw77uJ6QS73D"
      },
      "execution_count": null,
      "outputs": []
    },
    {
      "cell_type": "code",
      "source": [
        "%cd /content/drive/MyDrive/Kaggle"
      ],
      "metadata": {
        "id": "_DjYBReYTpd2"
      },
      "execution_count": null,
      "outputs": []
    },
    {
      "cell_type": "code",
      "source": [
        "df = pd.read_csv('train.csv')\n",
        "root_dir = \"dataset/train/\""
      ],
      "metadata": {
        "id": "HiTGNWX2TqxC"
      },
      "execution_count": null,
      "outputs": []
    },
    {
      "cell_type": "code",
      "source": [
        "# DEMO Vertical and Dot\n",
        "path_image = 'images/ba6161459a71.jpg'\n",
        "df_copy = df[df['image']==path_image].reset_index()\n",
        "meta = df_copy.to_dict()\n",
        "graph = np.array(Image.open(root_dir+meta['image'][0]+\"\"))\n",
        "fig, ax = plt.subplots()\n",
        "ax.set_title(label=f\"{meta['name'][index]}-x-axis-ticks\")\n",
        "width_step = 4/2\n",
        "ax.imshow(graph, cmap = \"gray\")\n",
        "image = cv2.imread(root_dir+\"/\"+path_image+\"\")\n",
        "for i,xaxis in  enumerate(ast.literal_eval(meta['x-axis'][index])['ticks']):\n",
        "    rect = (xaxis['tick_pt']['x']-width_step, xaxis['tick_pt']['y']-width_step, +width_step, +width_step)\n",
        "    patch = patches.Rectangle((rect[0], rect[1]), rect[2], rect[3], linewidth=2, edgecolor='r', facecolor='none')\n",
        "    ax.add_patch(patch)\n",
        "    # print(xaxis)\n",
        "    # print(f\"x: {xaxis['tick_pt']['x']} --- y: {xaxis['tick_pt']['y']}\")\n",
        "    x_center = xaxis['tick_pt']['x']\n",
        "    y_g =  xaxis['tick_pt']['y']\n",
        "    y_range = []\n",
        "    y_pixel_range = []\n",
        "    for yaxis in  ast.literal_eval(meta['y-axis'][index])['ticks']:\n",
        "      rect = (yaxis['tick_pt']['x']-width_step, yaxis['tick_pt']['y']-width_step, +width_step, +width_step)\n",
        "      patch = patches.Rectangle((rect[0], rect[1]), rect[2], rect[3], linewidth=2, edgecolor='r', facecolor='none')\n",
        "      ax.add_patch(patch)\n",
        "      y_pixel_range.append(int(yaxis['tick_pt']['y']))\n",
        "      # print(f\"x: {yaxis['tick_pt']['x']} --- y: {yaxis['tick_pt']['y']}\")\n",
        "     \n",
        "      for text in   ast.literal_eval(meta['text'][index]):\n",
        "        if text['id'] == yaxis['id']:\n",
        "          y_range.append(float(text['text']))\n",
        "    y_diff = max(y_range) - min(y_range)\n",
        "    y_pixel_diff = max(y_pixel_range) - min(y_pixel_range)\n",
        "    # print(y_diff)\n",
        "    # print(y_pixel_diff)\n",
        "    y_value = ast.literal_eval(meta['data-series'][index])[i]['y']\n",
        "    y_value_diff = y_value - min(y_range)\n",
        "    y_value_pixel = y_value_diff * y_pixel_diff / y_diff\n",
        "    # print(y_value_pixel)\n",
        "    v = max(y_pixel_range) - y_value_pixel\n",
        "    # print(max(y_pixel_range))\n",
        "    # print(v)\n",
        "    \n",
        "\n",
        "    rect = (x_center - width_step, v -width_step, +width_step, +width_step)\n",
        "    patch = patches.Rectangle((rect[0], rect[1]), rect[2], rect[3], linewidth=2, edgecolor='r', facecolor='none')  \n",
        "    ax.add_patch(patch)\n",
        "    top_left = (x_center - 10,int(v))\n",
        "    bottom_right = (x_center + 10,y_g)\n",
        "    image = cv2.rectangle(image, top_left, bottom_right, (0,0,255), 2)\n",
        "    \n",
        "\n",
        "plt.show()\n",
        "cv2_imshow(image)"
      ],
      "metadata": {
        "id": "t05IcLJRTvhs"
      },
      "execution_count": null,
      "outputs": []
    },
    {
      "cell_type": "code",
      "source": [
        "# DEMO Horizontal\n",
        "path_image = 'images/0b507ccf1a99.jpg'\n",
        "df_copy = df[df['image']==path_image].reset_index()\n",
        "meta = df_copy.to_dict()\n",
        "graph = np.array(Image.open(root_dir+meta['image'][0]+\"\"))\n",
        "fig, ax = plt.subplots()\n",
        "ax.set_title(label=f\"{meta['name'][index]}-x-axis-ticks\")\n",
        "width_step = 4/2\n",
        "ax.imshow(graph, cmap = \"gray\")\n",
        "image = cv2.imread(root_dir+\"/\"+path_image+\"\")\n",
        "for i,xaxis in  enumerate(ast.literal_eval(meta['x-axis'][index])['ticks']):\n",
        "    rect = (xaxis['tick_pt']['x']-width_step, xaxis['tick_pt']['y']-width_step, +width_step, +width_step)\n",
        "    patch = patches.Rectangle((rect[0], rect[1]), rect[2], rect[3], linewidth=2, edgecolor='r', facecolor='none')\n",
        "    ax.add_patch(patch)\n",
        "    # print(xaxis)\n",
        "    # print(f\"xaxis: x: {xaxis['tick_pt']['x']} --- y: {xaxis['tick_pt']['y']}\")\n",
        "    x_center = xaxis['tick_pt']['x']\n",
        "    y_g =  xaxis['tick_pt']['y']\n",
        "    x_range = []\n",
        "    x_pixel_range = []\n",
        "    for yaxis in  ast.literal_eval(meta['y-axis'][index])['ticks']:\n",
        "      rect = (yaxis['tick_pt']['x']-width_step, yaxis['tick_pt']['y']-width_step, +width_step, +width_step)\n",
        "      patch = patches.Rectangle((rect[0], rect[1]), rect[2], rect[3], linewidth=2, edgecolor='r', facecolor='none')\n",
        "      ax.add_patch(patch)\n",
        "      x_pixel_range.append(int(yaxis['tick_pt']['x']))\n",
        "      # print(f\"yaxis: x: {yaxis['tick_pt']['x']} --- y: {yaxis['tick_pt']['y']}\")\n",
        "      # print(yaxis)\n",
        "      for text in   ast.literal_eval(meta['text'][index]):\n",
        "        if text['id'] == yaxis['id']:\n",
        "          x_range.append(float(text['text']))\n",
        "    # print(x_pixel_range)\n",
        "    x_diff = max(x_range) - min(x_range)\n",
        "    x_pixel_diff = max(x_pixel_range) - min(x_pixel_range)\n",
        "    # print(x_diff)\n",
        "    # print(x_pixel_diff)\n",
        "    x_value = ast.literal_eval(meta['data-series'][index])[i]['x']\n",
        "\n",
        "    x_value_diff = x_value - min(x_range)\n",
        "    # print(x_value_diff)\n",
        "    x_value_pixel = (x_value_diff * x_pixel_diff / x_diff) + min(x_pixel_range)\n",
        "    # print(x_value_pixel)\n",
        "    v =  x_value_pixel\n",
        "    # print(max(y_pixel_range))\n",
        "    # print(v)\n",
        "    \n",
        "\n",
        "    rect = (v - width_step, y_g -width_step, +width_step, +width_step)\n",
        "    patch = patches.Rectangle((rect[0], rect[1]), rect[2], rect[3], linewidth=2, edgecolor='r', facecolor='none')  \n",
        "    ax.add_patch(patch)\n",
        "\n",
        "    top_left = (x_center,y_g -10 )\n",
        "    bottom_right = (int(v),y_g + 10)\n",
        "    image = cv2.rectangle(image, top_left, bottom_right, (0,0,255), 2)\n",
        "    \n",
        "\n",
        "plt.show()\n",
        "cv2_imshow(image)"
      ],
      "metadata": {
        "id": "QfnzriqDT8XD"
      },
      "execution_count": null,
      "outputs": []
    }
  ]
}