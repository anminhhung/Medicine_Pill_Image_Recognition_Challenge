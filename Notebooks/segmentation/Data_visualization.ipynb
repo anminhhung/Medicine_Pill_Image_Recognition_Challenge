{
 "cells": [
  {
   "cell_type": "code",
   "execution_count": null,
   "metadata": {
    "colab": {
     "base_uri": "https://localhost:8080/"
    },
    "id": "H9ClVx2FcAI5",
    "outputId": "d5637b85-69ec-4d77-ee1b-aed93eebc617"
   },
   "outputs": [],
   "source": [
    "!git clone https://github.com/cocodataset/cocoapi.git"
   ]
  },
  {
   "cell_type": "code",
   "execution_count": null,
   "metadata": {
    "colab": {
     "base_uri": "https://localhost:8080/"
    },
    "id": "OjGDo96NBta_",
    "outputId": "e9ca82cc-fcbc-46fb-854c-3a10cc293961"
   },
   "outputs": [],
   "source": [
    "!gdown 1etRoFndzleUtHbzDUqJOZkjDRlItDAnD"
   ]
  },
  {
   "cell_type": "code",
   "execution_count": null,
   "metadata": {
    "colab": {
     "base_uri": "https://localhost:8080/"
    },
    "id": "hCSXPSxMB1mO",
    "outputId": "7f81d5cf-d16a-4307-e676-cbeefe349d3d"
   },
   "outputs": [],
   "source": [
    "!unzip 'train_pill.zip' -d '/content/'"
   ]
  },
  {
   "cell_type": "code",
   "execution_count": null,
   "metadata": {
    "colab": {
     "base_uri": "https://localhost:8080/"
    },
    "id": "lrClFovcK_FC",
    "outputId": "c78e3a97-3b85-427c-dddd-fad3484660b2"
   },
   "outputs": [],
   "source": [
    "pip install pycocotools\n"
   ]
  },
  {
   "cell_type": "code",
   "execution_count": null,
   "metadata": {
    "id": "Cf82BG23DB5d"
   },
   "outputs": [],
   "source": [
    "from pycocotools.coco import COCO\n",
    "import os\n",
    "from PIL import Image\n",
    "import numpy as np\n",
    "from matplotlib import pyplot as plt\n",
    "%matplotlib inline"
   ]
  },
  {
   "cell_type": "code",
   "execution_count": null,
   "metadata": {
    "colab": {
     "base_uri": "https://localhost:8080/"
    },
    "id": "uGpB9YlZK8zL",
    "outputId": "fd4783d1-4451-41b9-aaf6-8241dec8cb3e"
   },
   "outputs": [],
   "source": [
    "# coco = COCO('../datasets/coco/annotations/instances_train2017.json')\n",
    "\n",
    "coco = COCO('/content/train_pill/label.json')\n",
    "img_dir = '/content/train_pill/pill_images'\n",
    "image_id = 193\n",
    "\n",
    "img = coco.imgs[image_id]\n",
    "# loading annotations into memory...\n",
    "# Done (t=12.70s)\n",
    "# creating index...\n",
    "# index created!"
   ]
  },
  {
   "cell_type": "code",
   "execution_count": null,
   "metadata": {
    "colab": {
     "base_uri": "https://localhost:8080/",
     "height": 269
    },
    "id": "5aWrV1rbLDbN",
    "outputId": "520bd51e-77ef-44bb-a3be-5d366cd07247"
   },
   "outputs": [],
   "source": [
    "image = np.array(Image.open(os.path.join(img_dir, img['file_name'])))\n",
    "plt.imshow(image, interpolation='nearest')\n",
    "plt.show()"
   ]
  },
  {
   "cell_type": "code",
   "execution_count": null,
   "metadata": {
    "colab": {
     "base_uri": "https://localhost:8080/",
     "height": 287
    },
    "id": "m4B4y5-YhB5P",
    "outputId": "97201446-3c48-4734-9ba5-420473d3bf39"
   },
   "outputs": [],
   "source": [
    "plt.imshow(image)\n",
    "cat_ids = coco.getCatIds()\n",
    "print(\"cat_ids=\", cat_ids)\n",
    "anns_ids = coco.getAnnIds(imgIds=img['id'], catIds=cat_ids, iscrowd=None)\n",
    "anns = coco.loadAnns(anns_ids)\n",
    "coco.showAnns(anns)"
   ]
  },
  {
   "cell_type": "code",
   "execution_count": null,
   "metadata": {
    "colab": {
     "base_uri": "https://localhost:8080/",
     "height": 287
    },
    "id": "Ooy7G1emhJmY",
    "outputId": "cf41acb8-6997-4b31-8c34-591cbe368406"
   },
   "outputs": [],
   "source": [
    "mask = coco.annToMask(anns[0])\n",
    "for i in range(len(anns)):\n",
    "    mask += coco.annToMask(anns[i])\n",
    "\n",
    "plt.imshow(mask)"
   ]
  },
  {
   "cell_type": "code",
   "execution_count": null,
   "metadata": {
    "id": "oU9XZ9yBk51Z"
   },
   "outputs": [],
   "source": []
  }
 ],
 "metadata": {
  "colab": {
   "name": "COCO_JSON.ipynb",
   "provenance": []
  },
  "kernelspec": {
   "display_name": "Python 3",
   "language": "python",
   "name": "python3"
  },
  "language_info": {
   "name": "python"
  }
 },
 "nbformat": 4,
 "nbformat_minor": 1
}
