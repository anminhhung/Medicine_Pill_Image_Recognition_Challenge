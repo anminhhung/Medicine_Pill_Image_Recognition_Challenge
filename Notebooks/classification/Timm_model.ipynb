{
  "nbformat": 4,
  "nbformat_minor": 0,
  "metadata": {
    "colab": {
      "name": "Timm_model.ipynb",
      "provenance": []
    },
    "kernelspec": {
      "name": "python3",
      "display_name": "Python 3"
    },
    "language_info": {
      "name": "python"
    },
    "accelerator": "GPU",
    "gpuClass": "standard"
  },
  "cells": [
    {
      "cell_type": "code",
      "execution_count": null,
      "metadata": {
        "id": "Fv-Q60OMPoCn"
      },
      "outputs": [],
      "source": [
        "!git clone https://github.com/anminhhung/dog-cat-dataset"
      ]
    },
    {
      "cell_type": "code",
      "source": [
        "!pip install torch==1.11.0+cu113 torchvision==0.12.0+cu113 torchaudio==0.11.0 --extra-index-url https://download.pytorch.org/whl/cu113"
      ],
      "metadata": {
        "id": "CYEj6zS2p92l"
      },
      "execution_count": null,
      "outputs": []
    },
    {
      "cell_type": "code",
      "source": [
        "!pip install mmcv==1.3.9"
      ],
      "metadata": {
        "id": "U9175xf60pvw"
      },
      "execution_count": null,
      "outputs": []
    },
    {
      "cell_type": "code",
      "source": [
        "!pip install git+https://github.com/rwightman/pytorch-image-models.git"
      ],
      "metadata": {
        "id": "U0VInfQ6s2S3"
      },
      "execution_count": null,
      "outputs": []
    },
    {
      "cell_type": "code",
      "source": [
        "!git clone https://github.com/rwightman/pytorch-image-models"
      ],
      "metadata": {
        "id": "ClPz2MqYtpWY"
      },
      "execution_count": null,
      "outputs": []
    },
    {
      "cell_type": "code",
      "source": [
        "!mv dog-cat-dataset/ pytorch-image-models/"
      ],
      "metadata": {
        "id": "U7hfNqTrt5DA"
      },
      "execution_count": null,
      "outputs": []
    },
    {
      "cell_type": "code",
      "source": [
        "%cd pytorch-image-models/"
      ],
      "metadata": {
        "colab": {
          "base_uri": "https://localhost:8080/"
        },
        "id": "5sONyD4huPfY",
        "outputId": "9bdc40a9-e004-4636-95a7-670f715bb1cc"
      },
      "execution_count": null,
      "outputs": [
        {
          "output_type": "stream",
          "name": "stdout",
          "text": [
            "/content/pytorch-image-models\n"
          ]
        }
      ]
    },
    {
      "cell_type": "markdown",
      "source": [
        "# cắt bớt data"
      ],
      "metadata": {
        "id": "AjNVjKmg2Mq2"
      }
    },
    {
      "cell_type": "code",
      "source": [
        "%cd dog-cat-dataset/ \n",
        "%cd data \n",
        "!rm -rf train \n",
        "%cd .. "
      ],
      "metadata": {
        "colab": {
          "base_uri": "https://localhost:8080/"
        },
        "id": "JsEFD8g82Lyg",
        "outputId": "e83c99cf-b47f-4e7f-d4f0-28134e15bf66"
      },
      "execution_count": null,
      "outputs": [
        {
          "output_type": "stream",
          "name": "stdout",
          "text": [
            "/content/pytorch-image-models/dog-cat-dataset\n",
            "/content/pytorch-image-models/dog-cat-dataset/data\n",
            "/content/pytorch-image-models/dog-cat-dataset\n"
          ]
        }
      ]
    },
    {
      "cell_type": "code",
      "source": [
        "%cd data \n",
        "!mv test train"
      ],
      "metadata": {
        "colab": {
          "base_uri": "https://localhost:8080/"
        },
        "id": "5j7OzZJn20tr",
        "outputId": "4b26cb97-312a-456f-919b-d295303bfa98"
      },
      "execution_count": null,
      "outputs": [
        {
          "output_type": "stream",
          "name": "stdout",
          "text": [
            "/content/pytorch-image-models/dog-cat-dataset/data\n"
          ]
        }
      ]
    },
    {
      "cell_type": "code",
      "source": [
        "!mkdir test \n",
        "!mkdir test/cats \n",
        "!mkdir test/dogs"
      ],
      "metadata": {
        "id": "B7ixr0Tw29GF"
      },
      "execution_count": null,
      "outputs": []
    },
    {
      "cell_type": "code",
      "source": [
        "import shutil \n",
        "#Utility function to move images \n",
        "def move_files_to_folder(list_of_files, destination_folder):\n",
        "    for f in list_of_files:\n",
        "        try:\n",
        "            shutil.move(f, destination_folder)\n",
        "        except:\n",
        "            print(f)\n",
        "            assert False"
      ],
      "metadata": {
        "id": "QEr3T42D4JT_"
      },
      "execution_count": null,
      "outputs": []
    },
    {
      "cell_type": "code",
      "source": [
        "import glob2 \n",
        "\n",
        "list_cats_img = glob2.glob(\"train/cats/*.jpg\")\n",
        "list_dogs_img = glob2.glob(\"train/dogs/*.jpg\")\n",
        "\n",
        "list_cats_test = list_cats_img[:500]\n",
        "list_dogs_test = list_dogs_img[:500]"
      ],
      "metadata": {
        "colab": {
          "base_uri": "https://localhost:8080/"
        },
        "id": "Sap8fZan3Dud",
        "outputId": "a1049332-367f-4194-ce40-e7d875ac73d7"
      },
      "execution_count": null,
      "outputs": [
        {
          "output_type": "stream",
          "name": "stdout",
          "text": [
            "500\n"
          ]
        }
      ]
    },
    {
      "cell_type": "code",
      "source": [
        "move_files_to_folder(list_cats_test, 'test/cats')\n",
        "move_files_to_folder(list_dogs_test, 'test/dogs')"
      ],
      "metadata": {
        "id": "ZxfGrnZB4Med"
      },
      "execution_count": null,
      "outputs": []
    },
    {
      "cell_type": "code",
      "source": [
        "import os \n",
        "os.environ['CUDA_LAUNCH_BLOCKING'] = '1'"
      ],
      "metadata": {
        "id": "b7zDMmv_xhAX"
      },
      "execution_count": null,
      "outputs": []
    },
    {
      "cell_type": "code",
      "source": [
        "%cd .."
      ],
      "metadata": {
        "colab": {
          "base_uri": "https://localhost:8080/"
        },
        "id": "HTlnSwkR4h8R",
        "outputId": "62829688-5747-43a9-f617-bf8375870d63"
      },
      "execution_count": null,
      "outputs": [
        {
          "output_type": "stream",
          "name": "stdout",
          "text": [
            "/content/pytorch-image-models\n"
          ]
        }
      ]
    },
    {
      "cell_type": "code",
      "source": [
        "!export NCCL_DEBUG=INFO"
      ],
      "metadata": {
        "id": "Us-FVH2w5tu-"
      },
      "execution_count": 49,
      "outputs": []
    },
    {
      "cell_type": "code",
      "source": [
        "# EfficientNet-B2\n",
        "!python train.py ./dog-cat-dataset/ --model efficientnet_b2 --pretrained --num-classes 2 --batch-size 2 --sched step --epochs 2 --decay-epochs 1 --decay-rate .9 --opt adamp --opt-eps .001 -j 8 --warmup-lr 1e-5 --weight-decay 1e-5 --lr 5e-5"
      ],
      "metadata": {
        "colab": {
          "base_uri": "https://localhost:8080/"
        },
        "id": "4uDn-kqruBT9",
        "outputId": "c970a0b3-e92b-4dd5-a784-d458b8bbe1d4"
      },
      "execution_count": 62,
      "outputs": [
        {
          "output_type": "stream",
          "name": "stdout",
          "text": [
            "Training with a single process on 1 GPUs.\n",
            "Loading pretrained weights from url (https://github.com/rwightman/pytorch-image-models/releases/download/v0.1-weights/efficientnet_b2_ra-bcdf34b7.pth)\n",
            "Model efficientnet_b2 created, param count:7703812\n",
            "Data processing configuration for current model + dataset:\n",
            "\tinput_size: (3, 256, 256)\n",
            "\tinterpolation: bicubic\n",
            "\tmean: (0.485, 0.456, 0.406)\n",
            "\tstd: (0.229, 0.224, 0.225)\n",
            "\tcrop_pct: 1.0\n",
            "AMP not enabled. Training in float32.\n",
            "Scheduled epochs: 2\n",
            "/usr/local/lib/python3.7/dist-packages/torch/utils/data/dataloader.py:490: UserWarning: This DataLoader will create 8 worker processes in total. Our suggested max number of worker in current system is 2, which is smaller than what this DataLoader is going to create. Please be aware that excessive worker creation might get DataLoader running slow or even freeze, lower the worker number to avoid potential slowness/freeze if necessary.\n",
            "  cpuset_checked))\n",
            "Train: 0 [   0/2500 (  0%)]  Loss: 0.9394 (0.939)  Time: 1.828s,    1.09/s  (1.828s,    1.09/s)  LR: 1.000e-05  Data: 0.549 (0.549)\n",
            "Train: 0 [  50/2500 (  2%)]  Loss: 0.5481 (1.65)  Time: 0.260s,    7.69/s  (0.282s,    7.10/s)  LR: 1.000e-05  Data: 0.002 (0.013)\n",
            "Train: 0 [ 100/2500 (  4%)]  Loss: 3.921 (1.58)  Time: 0.262s,    7.65/s  (0.272s,    7.35/s)  LR: 1.000e-05  Data: 0.003 (0.008)\n",
            "Train: 0 [ 150/2500 (  6%)]  Loss: 0.4976 (1.47)  Time: 0.257s,    7.79/s  (0.269s,    7.44/s)  LR: 1.000e-05  Data: 0.002 (0.006)\n",
            "Train: 0 [ 200/2500 (  8%)]  Loss: 1.443 (1.39)  Time: 0.260s,    7.68/s  (0.267s,    7.49/s)  LR: 1.000e-05  Data: 0.003 (0.005)\n",
            "Train: 0 [ 250/2500 ( 10%)]  Loss: 2.310 (1.33)  Time: 0.263s,    7.60/s  (0.266s,    7.52/s)  LR: 1.000e-05  Data: 0.002 (0.005)\n",
            "Train: 0 [ 300/2500 ( 12%)]  Loss: 0.6212 (1.29)  Time: 0.266s,    7.51/s  (0.267s,    7.48/s)  LR: 1.000e-05  Data: 0.002 (0.005)\n",
            "Train: 0 [ 350/2500 ( 14%)]  Loss: 1.240 (1.24)  Time: 0.256s,    7.80/s  (0.267s,    7.50/s)  LR: 1.000e-05  Data: 0.003 (0.004)\n",
            "Train: 0 [ 400/2500 ( 16%)]  Loss: 3.129 (1.23)  Time: 0.259s,    7.74/s  (0.266s,    7.52/s)  LR: 1.000e-05  Data: 0.002 (0.004)\n",
            "Train: 0 [ 450/2500 ( 18%)]  Loss: 0.9516 (1.21)  Time: 0.268s,    7.47/s  (0.266s,    7.53/s)  LR: 1.000e-05  Data: 0.002 (0.004)\n",
            "Train: 0 [ 500/2500 ( 20%)]  Loss: 0.3267 (1.18)  Time: 0.268s,    7.46/s  (0.265s,    7.54/s)  LR: 1.000e-05  Data: 0.002 (0.004)\n",
            "Train: 0 [ 550/2500 ( 22%)]  Loss: 3.004 (1.16)  Time: 0.261s,    7.68/s  (0.265s,    7.55/s)  LR: 1.000e-05  Data: 0.002 (0.004)\n",
            "Train: 0 [ 600/2500 ( 24%)]  Loss: 2.258 (1.14)  Time: 0.259s,    7.71/s  (0.265s,    7.55/s)  LR: 1.000e-05  Data: 0.002 (0.004)\n",
            "Train: 0 [ 650/2500 ( 26%)]  Loss: 0.3006 (1.12)  Time: 0.261s,    7.65/s  (0.265s,    7.56/s)  LR: 1.000e-05  Data: 0.002 (0.004)\n"
          ]
        }
      ]
    },
    {
      "cell_type": "code",
      "source": [
        "import timm \n",
        "timm.list_models('*vit_large_patch14_224*')[:10]"
      ],
      "metadata": {
        "colab": {
          "base_uri": "https://localhost:8080/"
        },
        "id": "2LXCefHq_-mI",
        "outputId": "24997bf9-ed11-4511-8a66-8a38dfbcae54"
      },
      "execution_count": 65,
      "outputs": [
        {
          "output_type": "execute_result",
          "data": {
            "text/plain": [
              "['vit_large_patch14_224']"
            ]
          },
          "metadata": {},
          "execution_count": 65
        }
      ]
    },
    {
      "cell_type": "code",
      "source": [
        "!python train.py ./dog-cat-dataset/ --model vit_large_patch14_224 --pretrained --num-classes 2 --batch-size 2 --sched step --epochs 2 --decay-epochs 1 --decay-rate .9 --opt adamp --opt-eps .001 -j 8 --warmup-lr 1e-5 --weight-decay 1e-5 --lr 5e-5"
      ],
      "metadata": {
        "colab": {
          "base_uri": "https://localhost:8080/"
        },
        "id": "Ifi5nHnpAt9r",
        "outputId": "b45c73d7-83a9-4868-a49d-d281b0edb9fa"
      },
      "execution_count": 66,
      "outputs": [
        {
          "output_type": "stream",
          "name": "stdout",
          "text": [
            "Training with a single process on 1 GPUs.\n",
            "WARNING: No pretrained weights exist or were found for this model. Using random initialization.\n",
            "Model vit_large_patch14_224 created, param count:303180802\n",
            "Data processing configuration for current model + dataset:\n",
            "\tinput_size: (3, 224, 224)\n",
            "\tinterpolation: bicubic\n",
            "\tmean: (0.5, 0.5, 0.5)\n",
            "\tstd: (0.5, 0.5, 0.5)\n",
            "\tcrop_pct: 0.9\n",
            "AMP not enabled. Training in float32.\n",
            "Scheduled epochs: 2\n",
            "/usr/local/lib/python3.7/dist-packages/torch/utils/data/dataloader.py:490: UserWarning: This DataLoader will create 8 worker processes in total. Our suggested max number of worker in current system is 2, which is smaller than what this DataLoader is going to create. Please be aware that excessive worker creation might get DataLoader running slow or even freeze, lower the worker number to avoid potential slowness/freeze if necessary.\n",
            "  cpuset_checked))\n",
            "Train: 0 [   0/2500 (  0%)]  Loss: 0.6162 (0.616)  Time: 1.625s,    1.23/s  (1.625s,    1.23/s)  LR: 1.000e-05  Data: 0.623 (0.623)\n",
            "Train: 0 [  50/2500 (  2%)]  Loss: 0.6502 (1.31)  Time: 0.705s,    2.84/s  (0.715s,    2.80/s)  LR: 1.000e-05  Data: 0.002 (0.015)\n",
            "Exception ignored in: <function _MultiProcessingDataLoaderIter.__del__ at 0x7facb9673b90>\n",
            "Traceback (most recent call last):\n",
            "  File \"/usr/local/lib/python3.7/dist-packages/torch/utils/data/dataloader.py\", line 1358, in __del__\n",
            "    self._shutdown_workers()\n",
            "  File \"/usr/local/lib/python3.7/dist-packages/torch/utils/data/dataloader.py\", line 1322, in _shutdown_workers\n",
            "    w.join(timeout=_utils.MP_STATUS_CHECK_INTERVAL)\n",
            "  File \"/usr/lib/python3.7/multiprocessing/process.py\", line 140, in join\n",
            "    res = self._popen.wait(timeout)\n",
            "  File \"/usr/lib/python3.7/multiprocessing/popen_fork.py\", line 45, in wait\n",
            "    if not wait([self.sentinel], timeout):\n",
            "  File \"/usr/lib/python3.7/multiprocessing/connection.py\", line 921, in wait\n",
            "    ready = selector.select(timeout)\n",
            "  File \"/usr/lib/python3.7/selectors.py\", line 415, in select\n",
            "    fd_event_list = self._selector.poll(timeout)\n",
            "KeyboardInterrupt: \n"
          ]
        }
      ]
    }
  ]
}