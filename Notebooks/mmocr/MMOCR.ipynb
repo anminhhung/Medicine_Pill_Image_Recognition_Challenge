{
  "nbformat": 4,
  "nbformat_minor": 0,
  "metadata": {
    "colab": {
      "name": "MMOCR.ipynb",
      "provenance": []
    },
    "kernelspec": {
      "name": "python3",
      "display_name": "Python 3"
    },
    "language_info": {
      "name": "python"
    },
    "accelerator": "GPU",
    "gpuClass": "standard",
    "widgets": {
      "application/vnd.jupyter.widget-state+json": {
        "a8158308bb5543ffbf0904d4a2fff6b5": {
          "model_module": "@jupyter-widgets/controls",
          "model_name": "HBoxModel",
          "model_module_version": "1.5.0",
          "state": {
            "_dom_classes": [],
            "_model_module": "@jupyter-widgets/controls",
            "_model_module_version": "1.5.0",
            "_model_name": "HBoxModel",
            "_view_count": null,
            "_view_module": "@jupyter-widgets/controls",
            "_view_module_version": "1.5.0",
            "_view_name": "HBoxView",
            "box_style": "",
            "children": [
              "IPY_MODEL_d345757d617241508659908fd325ea7e",
              "IPY_MODEL_9139281deb6e4a65bfb4185385bcaf50",
              "IPY_MODEL_596c840b7c3e442f940c3252870429ac"
            ],
            "layout": "IPY_MODEL_a3dd87960882436186482f8b03f5777d"
          }
        },
        "d345757d617241508659908fd325ea7e": {
          "model_module": "@jupyter-widgets/controls",
          "model_name": "HTMLModel",
          "model_module_version": "1.5.0",
          "state": {
            "_dom_classes": [],
            "_model_module": "@jupyter-widgets/controls",
            "_model_module_version": "1.5.0",
            "_model_name": "HTMLModel",
            "_view_count": null,
            "_view_module": "@jupyter-widgets/controls",
            "_view_module_version": "1.5.0",
            "_view_name": "HTMLView",
            "description": "",
            "description_tooltip": null,
            "layout": "IPY_MODEL_74451d632c5d45bf904a6312f4bda6d6",
            "placeholder": "​",
            "style": "IPY_MODEL_d8269b6d13e3402db1d966e0d22d864e",
            "value": "100%"
          }
        },
        "9139281deb6e4a65bfb4185385bcaf50": {
          "model_module": "@jupyter-widgets/controls",
          "model_name": "FloatProgressModel",
          "model_module_version": "1.5.0",
          "state": {
            "_dom_classes": [],
            "_model_module": "@jupyter-widgets/controls",
            "_model_module_version": "1.5.0",
            "_model_name": "FloatProgressModel",
            "_view_count": null,
            "_view_module": "@jupyter-widgets/controls",
            "_view_module_version": "1.5.0",
            "_view_name": "ProgressView",
            "bar_style": "success",
            "description": "",
            "description_tooltip": null,
            "layout": "IPY_MODEL_929894a93ac947d9a9498d8b070b0f36",
            "max": 46187966,
            "min": 0,
            "orientation": "horizontal",
            "style": "IPY_MODEL_ee83ef06b4064fd4bb90e144640bdc83",
            "value": 46187966
          }
        },
        "596c840b7c3e442f940c3252870429ac": {
          "model_module": "@jupyter-widgets/controls",
          "model_name": "HTMLModel",
          "model_module_version": "1.5.0",
          "state": {
            "_dom_classes": [],
            "_model_module": "@jupyter-widgets/controls",
            "_model_module_version": "1.5.0",
            "_model_name": "HTMLModel",
            "_view_count": null,
            "_view_module": "@jupyter-widgets/controls",
            "_view_module_version": "1.5.0",
            "_view_name": "HTMLView",
            "description": "",
            "description_tooltip": null,
            "layout": "IPY_MODEL_07c12677089f4f25aef6d2ac04b97d60",
            "placeholder": "​",
            "style": "IPY_MODEL_a5d0a4de4d58443090a525c8b497f78e",
            "value": " 44.0M/44.0M [00:03&lt;00:00, 12.3MB/s]"
          }
        },
        "a3dd87960882436186482f8b03f5777d": {
          "model_module": "@jupyter-widgets/base",
          "model_name": "LayoutModel",
          "model_module_version": "1.2.0",
          "state": {
            "_model_module": "@jupyter-widgets/base",
            "_model_module_version": "1.2.0",
            "_model_name": "LayoutModel",
            "_view_count": null,
            "_view_module": "@jupyter-widgets/base",
            "_view_module_version": "1.2.0",
            "_view_name": "LayoutView",
            "align_content": null,
            "align_items": null,
            "align_self": null,
            "border": null,
            "bottom": null,
            "display": null,
            "flex": null,
            "flex_flow": null,
            "grid_area": null,
            "grid_auto_columns": null,
            "grid_auto_flow": null,
            "grid_auto_rows": null,
            "grid_column": null,
            "grid_gap": null,
            "grid_row": null,
            "grid_template_areas": null,
            "grid_template_columns": null,
            "grid_template_rows": null,
            "height": null,
            "justify_content": null,
            "justify_items": null,
            "left": null,
            "margin": null,
            "max_height": null,
            "max_width": null,
            "min_height": null,
            "min_width": null,
            "object_fit": null,
            "object_position": null,
            "order": null,
            "overflow": null,
            "overflow_x": null,
            "overflow_y": null,
            "padding": null,
            "right": null,
            "top": null,
            "visibility": null,
            "width": null
          }
        },
        "74451d632c5d45bf904a6312f4bda6d6": {
          "model_module": "@jupyter-widgets/base",
          "model_name": "LayoutModel",
          "model_module_version": "1.2.0",
          "state": {
            "_model_module": "@jupyter-widgets/base",
            "_model_module_version": "1.2.0",
            "_model_name": "LayoutModel",
            "_view_count": null,
            "_view_module": "@jupyter-widgets/base",
            "_view_module_version": "1.2.0",
            "_view_name": "LayoutView",
            "align_content": null,
            "align_items": null,
            "align_self": null,
            "border": null,
            "bottom": null,
            "display": null,
            "flex": null,
            "flex_flow": null,
            "grid_area": null,
            "grid_auto_columns": null,
            "grid_auto_flow": null,
            "grid_auto_rows": null,
            "grid_column": null,
            "grid_gap": null,
            "grid_row": null,
            "grid_template_areas": null,
            "grid_template_columns": null,
            "grid_template_rows": null,
            "height": null,
            "justify_content": null,
            "justify_items": null,
            "left": null,
            "margin": null,
            "max_height": null,
            "max_width": null,
            "min_height": null,
            "min_width": null,
            "object_fit": null,
            "object_position": null,
            "order": null,
            "overflow": null,
            "overflow_x": null,
            "overflow_y": null,
            "padding": null,
            "right": null,
            "top": null,
            "visibility": null,
            "width": null
          }
        },
        "d8269b6d13e3402db1d966e0d22d864e": {
          "model_module": "@jupyter-widgets/controls",
          "model_name": "DescriptionStyleModel",
          "model_module_version": "1.5.0",
          "state": {
            "_model_module": "@jupyter-widgets/controls",
            "_model_module_version": "1.5.0",
            "_model_name": "DescriptionStyleModel",
            "_view_count": null,
            "_view_module": "@jupyter-widgets/base",
            "_view_module_version": "1.2.0",
            "_view_name": "StyleView",
            "description_width": ""
          }
        },
        "929894a93ac947d9a9498d8b070b0f36": {
          "model_module": "@jupyter-widgets/base",
          "model_name": "LayoutModel",
          "model_module_version": "1.2.0",
          "state": {
            "_model_module": "@jupyter-widgets/base",
            "_model_module_version": "1.2.0",
            "_model_name": "LayoutModel",
            "_view_count": null,
            "_view_module": "@jupyter-widgets/base",
            "_view_module_version": "1.2.0",
            "_view_name": "LayoutView",
            "align_content": null,
            "align_items": null,
            "align_self": null,
            "border": null,
            "bottom": null,
            "display": null,
            "flex": null,
            "flex_flow": null,
            "grid_area": null,
            "grid_auto_columns": null,
            "grid_auto_flow": null,
            "grid_auto_rows": null,
            "grid_column": null,
            "grid_gap": null,
            "grid_row": null,
            "grid_template_areas": null,
            "grid_template_columns": null,
            "grid_template_rows": null,
            "height": null,
            "justify_content": null,
            "justify_items": null,
            "left": null,
            "margin": null,
            "max_height": null,
            "max_width": null,
            "min_height": null,
            "min_width": null,
            "object_fit": null,
            "object_position": null,
            "order": null,
            "overflow": null,
            "overflow_x": null,
            "overflow_y": null,
            "padding": null,
            "right": null,
            "top": null,
            "visibility": null,
            "width": null
          }
        },
        "ee83ef06b4064fd4bb90e144640bdc83": {
          "model_module": "@jupyter-widgets/controls",
          "model_name": "ProgressStyleModel",
          "model_module_version": "1.5.0",
          "state": {
            "_model_module": "@jupyter-widgets/controls",
            "_model_module_version": "1.5.0",
            "_model_name": "ProgressStyleModel",
            "_view_count": null,
            "_view_module": "@jupyter-widgets/base",
            "_view_module_version": "1.2.0",
            "_view_name": "StyleView",
            "bar_color": null,
            "description_width": ""
          }
        },
        "07c12677089f4f25aef6d2ac04b97d60": {
          "model_module": "@jupyter-widgets/base",
          "model_name": "LayoutModel",
          "model_module_version": "1.2.0",
          "state": {
            "_model_module": "@jupyter-widgets/base",
            "_model_module_version": "1.2.0",
            "_model_name": "LayoutModel",
            "_view_count": null,
            "_view_module": "@jupyter-widgets/base",
            "_view_module_version": "1.2.0",
            "_view_name": "LayoutView",
            "align_content": null,
            "align_items": null,
            "align_self": null,
            "border": null,
            "bottom": null,
            "display": null,
            "flex": null,
            "flex_flow": null,
            "grid_area": null,
            "grid_auto_columns": null,
            "grid_auto_flow": null,
            "grid_auto_rows": null,
            "grid_column": null,
            "grid_gap": null,
            "grid_row": null,
            "grid_template_areas": null,
            "grid_template_columns": null,
            "grid_template_rows": null,
            "height": null,
            "justify_content": null,
            "justify_items": null,
            "left": null,
            "margin": null,
            "max_height": null,
            "max_width": null,
            "min_height": null,
            "min_width": null,
            "object_fit": null,
            "object_position": null,
            "order": null,
            "overflow": null,
            "overflow_x": null,
            "overflow_y": null,
            "padding": null,
            "right": null,
            "top": null,
            "visibility": null,
            "width": null
          }
        },
        "a5d0a4de4d58443090a525c8b497f78e": {
          "model_module": "@jupyter-widgets/controls",
          "model_name": "DescriptionStyleModel",
          "model_module_version": "1.5.0",
          "state": {
            "_model_module": "@jupyter-widgets/controls",
            "_model_module_version": "1.5.0",
            "_model_name": "DescriptionStyleModel",
            "_view_count": null,
            "_view_module": "@jupyter-widgets/base",
            "_view_module_version": "1.2.0",
            "_view_name": "StyleView",
            "description_width": ""
          }
        },
        "9102c3b5ef014eac92f26898e6908e5b": {
          "model_module": "@jupyter-widgets/controls",
          "model_name": "HBoxModel",
          "model_module_version": "1.5.0",
          "state": {
            "_dom_classes": [],
            "_model_module": "@jupyter-widgets/controls",
            "_model_module_version": "1.5.0",
            "_model_name": "HBoxModel",
            "_view_count": null,
            "_view_module": "@jupyter-widgets/controls",
            "_view_module_version": "1.5.0",
            "_view_name": "HBoxView",
            "box_style": "",
            "children": [
              "IPY_MODEL_4b341eb7b0f4425ab3ea8420b062c42e",
              "IPY_MODEL_0f8fb62692c54475b15d8ddb5d4281d2",
              "IPY_MODEL_2ff6c83b5993473c9c7f5f8881518013"
            ],
            "layout": "IPY_MODEL_20819ca691d8471faff4c57b77bd9b0c"
          }
        },
        "4b341eb7b0f4425ab3ea8420b062c42e": {
          "model_module": "@jupyter-widgets/controls",
          "model_name": "HTMLModel",
          "model_module_version": "1.5.0",
          "state": {
            "_dom_classes": [],
            "_model_module": "@jupyter-widgets/controls",
            "_model_module_version": "1.5.0",
            "_model_name": "HTMLModel",
            "_view_count": null,
            "_view_module": "@jupyter-widgets/controls",
            "_view_module_version": "1.5.0",
            "_view_name": "HTMLView",
            "description": "",
            "description_tooltip": null,
            "layout": "IPY_MODEL_da3893720f4a46959da0c1fc1a1e479a",
            "placeholder": "​",
            "style": "IPY_MODEL_9f743f6fd7b045139c032c4096c5d755",
            "value": "100%"
          }
        },
        "0f8fb62692c54475b15d8ddb5d4281d2": {
          "model_module": "@jupyter-widgets/controls",
          "model_name": "FloatProgressModel",
          "model_module_version": "1.5.0",
          "state": {
            "_dom_classes": [],
            "_model_module": "@jupyter-widgets/controls",
            "_model_module_version": "1.5.0",
            "_model_name": "FloatProgressModel",
            "_view_count": null,
            "_view_module": "@jupyter-widgets/controls",
            "_view_module_version": "1.5.0",
            "_view_name": "ProgressView",
            "bar_style": "success",
            "description": "",
            "description_tooltip": null,
            "layout": "IPY_MODEL_d5b7bc241e6b4b3fb36564c99058211d",
            "max": 190780087,
            "min": 0,
            "orientation": "horizontal",
            "style": "IPY_MODEL_30d3a73b747147428bd7764a36824fc5",
            "value": 190780087
          }
        },
        "2ff6c83b5993473c9c7f5f8881518013": {
          "model_module": "@jupyter-widgets/controls",
          "model_name": "HTMLModel",
          "model_module_version": "1.5.0",
          "state": {
            "_dom_classes": [],
            "_model_module": "@jupyter-widgets/controls",
            "_model_module_version": "1.5.0",
            "_model_name": "HTMLModel",
            "_view_count": null,
            "_view_module": "@jupyter-widgets/controls",
            "_view_module_version": "1.5.0",
            "_view_name": "HTMLView",
            "description": "",
            "description_tooltip": null,
            "layout": "IPY_MODEL_6c543e75b9174ecab7cb54b2156588e2",
            "placeholder": "​",
            "style": "IPY_MODEL_69ecdbe4f46b405ab80a70130f988b0f",
            "value": " 182M/182M [00:15&lt;00:00, 14.3MB/s]"
          }
        },
        "20819ca691d8471faff4c57b77bd9b0c": {
          "model_module": "@jupyter-widgets/base",
          "model_name": "LayoutModel",
          "model_module_version": "1.2.0",
          "state": {
            "_model_module": "@jupyter-widgets/base",
            "_model_module_version": "1.2.0",
            "_model_name": "LayoutModel",
            "_view_count": null,
            "_view_module": "@jupyter-widgets/base",
            "_view_module_version": "1.2.0",
            "_view_name": "LayoutView",
            "align_content": null,
            "align_items": null,
            "align_self": null,
            "border": null,
            "bottom": null,
            "display": null,
            "flex": null,
            "flex_flow": null,
            "grid_area": null,
            "grid_auto_columns": null,
            "grid_auto_flow": null,
            "grid_auto_rows": null,
            "grid_column": null,
            "grid_gap": null,
            "grid_row": null,
            "grid_template_areas": null,
            "grid_template_columns": null,
            "grid_template_rows": null,
            "height": null,
            "justify_content": null,
            "justify_items": null,
            "left": null,
            "margin": null,
            "max_height": null,
            "max_width": null,
            "min_height": null,
            "min_width": null,
            "object_fit": null,
            "object_position": null,
            "order": null,
            "overflow": null,
            "overflow_x": null,
            "overflow_y": null,
            "padding": null,
            "right": null,
            "top": null,
            "visibility": null,
            "width": null
          }
        },
        "da3893720f4a46959da0c1fc1a1e479a": {
          "model_module": "@jupyter-widgets/base",
          "model_name": "LayoutModel",
          "model_module_version": "1.2.0",
          "state": {
            "_model_module": "@jupyter-widgets/base",
            "_model_module_version": "1.2.0",
            "_model_name": "LayoutModel",
            "_view_count": null,
            "_view_module": "@jupyter-widgets/base",
            "_view_module_version": "1.2.0",
            "_view_name": "LayoutView",
            "align_content": null,
            "align_items": null,
            "align_self": null,
            "border": null,
            "bottom": null,
            "display": null,
            "flex": null,
            "flex_flow": null,
            "grid_area": null,
            "grid_auto_columns": null,
            "grid_auto_flow": null,
            "grid_auto_rows": null,
            "grid_column": null,
            "grid_gap": null,
            "grid_row": null,
            "grid_template_areas": null,
            "grid_template_columns": null,
            "grid_template_rows": null,
            "height": null,
            "justify_content": null,
            "justify_items": null,
            "left": null,
            "margin": null,
            "max_height": null,
            "max_width": null,
            "min_height": null,
            "min_width": null,
            "object_fit": null,
            "object_position": null,
            "order": null,
            "overflow": null,
            "overflow_x": null,
            "overflow_y": null,
            "padding": null,
            "right": null,
            "top": null,
            "visibility": null,
            "width": null
          }
        },
        "9f743f6fd7b045139c032c4096c5d755": {
          "model_module": "@jupyter-widgets/controls",
          "model_name": "DescriptionStyleModel",
          "model_module_version": "1.5.0",
          "state": {
            "_model_module": "@jupyter-widgets/controls",
            "_model_module_version": "1.5.0",
            "_model_name": "DescriptionStyleModel",
            "_view_count": null,
            "_view_module": "@jupyter-widgets/base",
            "_view_module_version": "1.2.0",
            "_view_name": "StyleView",
            "description_width": ""
          }
        },
        "d5b7bc241e6b4b3fb36564c99058211d": {
          "model_module": "@jupyter-widgets/base",
          "model_name": "LayoutModel",
          "model_module_version": "1.2.0",
          "state": {
            "_model_module": "@jupyter-widgets/base",
            "_model_module_version": "1.2.0",
            "_model_name": "LayoutModel",
            "_view_count": null,
            "_view_module": "@jupyter-widgets/base",
            "_view_module_version": "1.2.0",
            "_view_name": "LayoutView",
            "align_content": null,
            "align_items": null,
            "align_self": null,
            "border": null,
            "bottom": null,
            "display": null,
            "flex": null,
            "flex_flow": null,
            "grid_area": null,
            "grid_auto_columns": null,
            "grid_auto_flow": null,
            "grid_auto_rows": null,
            "grid_column": null,
            "grid_gap": null,
            "grid_row": null,
            "grid_template_areas": null,
            "grid_template_columns": null,
            "grid_template_rows": null,
            "height": null,
            "justify_content": null,
            "justify_items": null,
            "left": null,
            "margin": null,
            "max_height": null,
            "max_width": null,
            "min_height": null,
            "min_width": null,
            "object_fit": null,
            "object_position": null,
            "order": null,
            "overflow": null,
            "overflow_x": null,
            "overflow_y": null,
            "padding": null,
            "right": null,
            "top": null,
            "visibility": null,
            "width": null
          }
        },
        "30d3a73b747147428bd7764a36824fc5": {
          "model_module": "@jupyter-widgets/controls",
          "model_name": "ProgressStyleModel",
          "model_module_version": "1.5.0",
          "state": {
            "_model_module": "@jupyter-widgets/controls",
            "_model_module_version": "1.5.0",
            "_model_name": "ProgressStyleModel",
            "_view_count": null,
            "_view_module": "@jupyter-widgets/base",
            "_view_module_version": "1.2.0",
            "_view_name": "StyleView",
            "bar_color": null,
            "description_width": ""
          }
        },
        "6c543e75b9174ecab7cb54b2156588e2": {
          "model_module": "@jupyter-widgets/base",
          "model_name": "LayoutModel",
          "model_module_version": "1.2.0",
          "state": {
            "_model_module": "@jupyter-widgets/base",
            "_model_module_version": "1.2.0",
            "_model_name": "LayoutModel",
            "_view_count": null,
            "_view_module": "@jupyter-widgets/base",
            "_view_module_version": "1.2.0",
            "_view_name": "LayoutView",
            "align_content": null,
            "align_items": null,
            "align_self": null,
            "border": null,
            "bottom": null,
            "display": null,
            "flex": null,
            "flex_flow": null,
            "grid_area": null,
            "grid_auto_columns": null,
            "grid_auto_flow": null,
            "grid_auto_rows": null,
            "grid_column": null,
            "grid_gap": null,
            "grid_row": null,
            "grid_template_areas": null,
            "grid_template_columns": null,
            "grid_template_rows": null,
            "height": null,
            "justify_content": null,
            "justify_items": null,
            "left": null,
            "margin": null,
            "max_height": null,
            "max_width": null,
            "min_height": null,
            "min_width": null,
            "object_fit": null,
            "object_position": null,
            "order": null,
            "overflow": null,
            "overflow_x": null,
            "overflow_y": null,
            "padding": null,
            "right": null,
            "top": null,
            "visibility": null,
            "width": null
          }
        },
        "69ecdbe4f46b405ab80a70130f988b0f": {
          "model_module": "@jupyter-widgets/controls",
          "model_name": "DescriptionStyleModel",
          "model_module_version": "1.5.0",
          "state": {
            "_model_module": "@jupyter-widgets/controls",
            "_model_module_version": "1.5.0",
            "_model_name": "DescriptionStyleModel",
            "_view_count": null,
            "_view_module": "@jupyter-widgets/base",
            "_view_module_version": "1.2.0",
            "_view_name": "StyleView",
            "description_width": ""
          }
        }
      }
    }
  },
  "cells": [
    {
      "cell_type": "code",
      "execution_count": null,
      "metadata": {
        "id": "PnfwIHG39zYq"
      },
      "outputs": [],
      "source": [
        ""
      ]
    },
    {
      "cell_type": "markdown",
      "source": [
        "## Install MMOCR"
      ],
      "metadata": {
        "id": "Sfvz1sywQ9_4"
      }
    },
    {
      "cell_type": "markdown",
      "source": [
        "When installing dependencies for mmocr, please ensure that all the dependency versions are compatible with each other. For instance, if CUDA 10.1 is installed, then the Pytorch version must be compatible with cu10.1. Please see [getting_started.md](docs/getting_started.md) for more details. "
      ],
      "metadata": {
        "id": "q3fZP1LspEUp"
      }
    },
    {
      "cell_type": "code",
      "execution_count": 1,
      "source": [
        "%cd .."
      ],
      "outputs": [
        {
          "output_type": "stream",
          "name": "stdout",
          "text": [
            "/\n"
          ]
        }
      ],
      "metadata": {
        "colab": {
          "base_uri": "https://localhost:8080/"
        },
        "id": "rB3qciTXpEUq",
        "outputId": "14631a7c-ddd6-45b1-e1ec-a55853945ff5"
      }
    },
    {
      "cell_type": "markdown",
      "source": [
        "### Check PyTorch version"
      ],
      "metadata": {
        "id": "mSkZOdrMpEUr"
      }
    },
    {
      "cell_type": "code",
      "execution_count": 2,
      "source": [
        "!pip show torch\n"
      ],
      "outputs": [
        {
          "output_type": "stream",
          "name": "stdout",
          "text": [
            "Name: torch\n",
            "Version: 1.12.0+cu113\n",
            "Summary: Tensors and Dynamic neural networks in Python with strong GPU acceleration\n",
            "Home-page: https://pytorch.org/\n",
            "Author: PyTorch Team\n",
            "Author-email: packages@pytorch.org\n",
            "License: BSD-3\n",
            "Location: /usr/local/lib/python3.7/dist-packages\n",
            "Requires: typing-extensions\n",
            "Required-by: torchvision, torchtext, torchaudio, fastai\n"
          ]
        }
      ],
      "metadata": {
        "colab": {
          "base_uri": "https://localhost:8080/"
        },
        "id": "2DBpcKj2RDfu",
        "outputId": "08859f0d-940e-42eb-b97b-5ac12ca58c01"
      }
    },
    {
      "cell_type": "markdown",
      "source": [
        "### Install Dependencies "
      ],
      "metadata": {
        "id": "Tw7u_baQpEUs"
      }
    },
    {
      "cell_type": "code",
      "source": [
        "import torch\n",
        "import torchaudio\n",
        "import sys\n",
        "print(\"User Current Version:-\", sys.version)\n",
        "print(torch.__version__)\n",
        "print(torchaudio.__version__)"
      ],
      "metadata": {
        "colab": {
          "base_uri": "https://localhost:8080/"
        },
        "id": "TCOkTNQrf3dh",
        "outputId": "97048bcd-2e09-4a1a-823d-d745020ac084"
      },
      "execution_count": 3,
      "outputs": [
        {
          "output_type": "stream",
          "name": "stdout",
          "text": [
            "User Current Version:- 3.7.13 (default, Apr 24 2022, 01:04:09) \n",
            "[GCC 7.5.0]\n",
            "1.12.0+cu113\n",
            "0.12.0+cu113\n"
          ]
        }
      ]
    },
    {
      "cell_type": "code",
      "execution_count": 4,
      "source": [
        "# Install mmcv-full thus we could use CUDA operators\n",
        "!pip install mmcv-full -f https://download.openmmlab.com/mmcv/dist/cu113/torch1.12.0/index.html\n",
        "\n",
        "# Install mmdetection\n",
        "!pip install mmdet\n",
        "\n",
        "# Install mmocr\n",
        "!git clone https://github.com/open-mmlab/mmocr.git\n",
        "%cd mmocr\n",
        "!pip install -r requirements.txt\n",
        "!pip install -v -e ."
      ],
      "outputs": [
        {
          "output_type": "stream",
          "name": "stdout",
          "text": [
            "Looking in indexes: https://pypi.org/simple, https://us-python.pkg.dev/colab-wheels/public/simple/\n",
            "Looking in links: https://download.openmmlab.com/mmcv/dist/cu113/torch1.12.0/index.html\n",
            "Collecting mmcv-full\n",
            "  Downloading https://download.openmmlab.com/mmcv/dist/cu113/torch1.12.0/mmcv_full-1.6.0-cp37-cp37m-manylinux1_x86_64.whl (40.1 MB)\n",
            "\u001b[K     |████████████████████████████████| 40.1 MB 3.6 MB/s \n",
            "\u001b[?25hRequirement already satisfied: packaging in /usr/local/lib/python3.7/dist-packages (from mmcv-full) (21.3)\n",
            "Requirement already satisfied: numpy in /usr/local/lib/python3.7/dist-packages (from mmcv-full) (1.21.6)\n",
            "Requirement already satisfied: Pillow in /usr/local/lib/python3.7/dist-packages (from mmcv-full) (7.1.2)\n",
            "Collecting addict\n",
            "  Downloading addict-2.4.0-py3-none-any.whl (3.8 kB)\n",
            "Collecting yapf\n",
            "  Downloading yapf-0.32.0-py2.py3-none-any.whl (190 kB)\n",
            "\u001b[K     |████████████████████████████████| 190 kB 8.8 MB/s \n",
            "\u001b[?25hRequirement already satisfied: opencv-python>=3 in /usr/local/lib/python3.7/dist-packages (from mmcv-full) (4.1.2.30)\n",
            "Requirement already satisfied: pyyaml in /usr/local/lib/python3.7/dist-packages (from mmcv-full) (3.13)\n",
            "Requirement already satisfied: pyparsing!=3.0.5,>=2.0.2 in /usr/local/lib/python3.7/dist-packages (from packaging->mmcv-full) (3.0.9)\n",
            "Installing collected packages: yapf, addict, mmcv-full\n",
            "Successfully installed addict-2.4.0 mmcv-full-1.6.0 yapf-0.32.0\n",
            "Looking in indexes: https://pypi.org/simple, https://us-python.pkg.dev/colab-wheels/public/simple/\n",
            "Collecting mmdet\n",
            "  Downloading mmdet-2.25.0-py3-none-any.whl (1.4 MB)\n",
            "\u001b[K     |████████████████████████████████| 1.4 MB 8.6 MB/s \n",
            "\u001b[?25hRequirement already satisfied: matplotlib in /usr/local/lib/python3.7/dist-packages (from mmdet) (3.2.2)\n",
            "Requirement already satisfied: six in /usr/local/lib/python3.7/dist-packages (from mmdet) (1.15.0)\n",
            "Collecting terminaltables\n",
            "  Downloading terminaltables-3.1.10-py2.py3-none-any.whl (15 kB)\n",
            "Requirement already satisfied: pycocotools in /usr/local/lib/python3.7/dist-packages (from mmdet) (2.0.4)\n",
            "Requirement already satisfied: numpy in /usr/local/lib/python3.7/dist-packages (from mmdet) (1.21.6)\n",
            "Requirement already satisfied: kiwisolver>=1.0.1 in /usr/local/lib/python3.7/dist-packages (from matplotlib->mmdet) (1.4.3)\n",
            "Requirement already satisfied: python-dateutil>=2.1 in /usr/local/lib/python3.7/dist-packages (from matplotlib->mmdet) (2.8.2)\n",
            "Requirement already satisfied: cycler>=0.10 in /usr/local/lib/python3.7/dist-packages (from matplotlib->mmdet) (0.11.0)\n",
            "Requirement already satisfied: pyparsing!=2.0.4,!=2.1.2,!=2.1.6,>=2.0.1 in /usr/local/lib/python3.7/dist-packages (from matplotlib->mmdet) (3.0.9)\n",
            "Requirement already satisfied: typing-extensions in /usr/local/lib/python3.7/dist-packages (from kiwisolver>=1.0.1->matplotlib->mmdet) (4.1.1)\n",
            "Installing collected packages: terminaltables, mmdet\n",
            "Successfully installed mmdet-2.25.0 terminaltables-3.1.10\n",
            "Cloning into 'mmocr'...\n",
            "remote: Enumerating objects: 6784, done.\u001b[K\n",
            "remote: Counting objects: 100% (41/41), done.\u001b[K\n",
            "remote: Compressing objects: 100% (37/37), done.\u001b[K\n",
            "remote: Total 6784 (delta 10), reused 20 (delta 4), pack-reused 6743\u001b[K\n",
            "Receiving objects: 100% (6784/6784), 13.21 MiB | 30.47 MiB/s, done.\n",
            "Resolving deltas: 100% (4236/4236), done.\n",
            "/mmocr\n",
            "Looking in indexes: https://pypi.org/simple, https://us-python.pkg.dev/colab-wheels/public/simple/\n",
            "Requirement already satisfied: numpy in /usr/local/lib/python3.7/dist-packages (from -r requirements/build.txt (line 2)) (1.21.6)\n",
            "Collecting pyclipper\n",
            "  Downloading pyclipper-1.3.0.post3-cp37-cp37m-manylinux_2_5_x86_64.manylinux1_x86_64.whl (604 kB)\n",
            "\u001b[K     |████████████████████████████████| 604 kB 7.6 MB/s \n",
            "\u001b[?25hRequirement already satisfied: torch>=1.1 in /usr/local/lib/python3.7/dist-packages (from -r requirements/build.txt (line 4)) (1.12.0+cu113)\n",
            "Requirement already satisfied: imgaug in /usr/local/lib/python3.7/dist-packages (from -r requirements/runtime.txt (line 1)) (0.2.9)\n",
            "Collecting lanms-neo==1.0.2\n",
            "  Downloading lanms_neo-1.0.2.tar.gz (39 kB)\n",
            "  Installing build dependencies ... \u001b[?25l\u001b[?25hdone\n",
            "  Getting requirements to build wheel ... \u001b[?25l\u001b[?25hdone\n",
            "    Preparing wheel metadata ... \u001b[?25l\u001b[?25hdone\n",
            "Requirement already satisfied: lmdb in /usr/local/lib/python3.7/dist-packages (from -r requirements/runtime.txt (line 3)) (0.99)\n",
            "Requirement already satisfied: matplotlib in /usr/local/lib/python3.7/dist-packages (from -r requirements/runtime.txt (line 4)) (3.2.2)\n",
            "Collecting opencv-python!=4.5.5.*,>=4.2.0.32\n",
            "  Downloading opencv_python-4.6.0.66-cp36-abi3-manylinux_2_17_x86_64.manylinux2014_x86_64.whl (60.9 MB)\n",
            "\u001b[K     |████████████████████████████████| 60.9 MB 1.2 MB/s \n",
            "\u001b[?25hRequirement already satisfied: pycocotools in /usr/local/lib/python3.7/dist-packages (from -r requirements/runtime.txt (line 8)) (2.0.4)\n",
            "Collecting rapidfuzz>=2.0.0\n",
            "  Downloading rapidfuzz-2.1.3-cp37-cp37m-manylinux_2_17_x86_64.manylinux2014_x86_64.whl (2.0 MB)\n",
            "\u001b[K     |████████████████████████████████| 2.0 MB 46.7 MB/s \n",
            "\u001b[?25hRequirement already satisfied: scikit-image in /usr/local/lib/python3.7/dist-packages (from -r requirements/runtime.txt (line 10)) (0.18.3)\n",
            "Collecting asynctest\n",
            "  Downloading asynctest-0.13.0-py3-none-any.whl (26 kB)\n",
            "Collecting codecov\n",
            "  Downloading codecov-2.1.12-py2.py3-none-any.whl (16 kB)\n",
            "Collecting flake8\n",
            "  Downloading flake8-4.0.1-py2.py3-none-any.whl (64 kB)\n",
            "\u001b[K     |████████████████████████████████| 64 kB 2.8 MB/s \n",
            "\u001b[?25hCollecting isort\n",
            "  Downloading isort-5.10.1-py3-none-any.whl (103 kB)\n",
            "\u001b[K     |████████████████████████████████| 103 kB 57.1 MB/s \n",
            "\u001b[?25hCollecting kwarray\n",
            "  Downloading kwarray-0.6.2-py3-none-any.whl (90 kB)\n",
            "\u001b[K     |████████████████████████████████| 90 kB 9.1 MB/s \n",
            "\u001b[?25hRequirement already satisfied: pytest in /usr/local/lib/python3.7/dist-packages (from -r requirements/tests.txt (line 7)) (3.6.4)\n",
            "Collecting pytest-cov\n",
            "  Downloading pytest_cov-3.0.0-py3-none-any.whl (20 kB)\n",
            "Collecting pytest-runner\n",
            "  Downloading pytest_runner-6.0.0-py3-none-any.whl (7.2 kB)\n",
            "Collecting ubelt\n",
            "  Downloading ubelt-1.1.2-py3-none-any.whl (181 kB)\n",
            "\u001b[K     |████████████████████████████████| 181 kB 52.7 MB/s \n",
            "\u001b[?25hCollecting xdoctest>=0.10.0\n",
            "  Downloading xdoctest-1.0.1-py3-none-any.whl (130 kB)\n",
            "\u001b[K     |████████████████████████████████| 130 kB 47.3 MB/s \n",
            "\u001b[?25hRequirement already satisfied: yapf in /usr/local/lib/python3.7/dist-packages (from -r requirements/tests.txt (line 12)) (0.32.0)\n",
            "Requirement already satisfied: typing-extensions in /usr/local/lib/python3.7/dist-packages (from torch>=1.1->-r requirements/build.txt (line 4)) (4.1.1)\n",
            "Collecting jarowinkler<2.0.0,>=1.1.0\n",
            "  Downloading jarowinkler-1.1.2-cp37-cp37m-manylinux_2_17_x86_64.manylinux2014_x86_64.whl (104 kB)\n",
            "\u001b[K     |████████████████████████████████| 104 kB 44.4 MB/s \n",
            "\u001b[?25hRequirement already satisfied: six in /usr/local/lib/python3.7/dist-packages (from xdoctest>=0.10.0->-r requirements/tests.txt (line 11)) (1.15.0)\n",
            "Requirement already satisfied: imageio in /usr/local/lib/python3.7/dist-packages (from imgaug->-r requirements/runtime.txt (line 1)) (2.4.1)\n",
            "Requirement already satisfied: Pillow in /usr/local/lib/python3.7/dist-packages (from imgaug->-r requirements/runtime.txt (line 1)) (7.1.2)\n",
            "Requirement already satisfied: Shapely in /usr/local/lib/python3.7/dist-packages (from imgaug->-r requirements/runtime.txt (line 1)) (1.8.2)\n",
            "Requirement already satisfied: scipy in /usr/local/lib/python3.7/dist-packages (from imgaug->-r requirements/runtime.txt (line 1)) (1.7.3)\n",
            "Requirement already satisfied: networkx>=2.0 in /usr/local/lib/python3.7/dist-packages (from scikit-image->-r requirements/runtime.txt (line 10)) (2.6.3)\n",
            "Requirement already satisfied: PyWavelets>=1.1.1 in /usr/local/lib/python3.7/dist-packages (from scikit-image->-r requirements/runtime.txt (line 10)) (1.3.0)\n",
            "Requirement already satisfied: tifffile>=2019.7.26 in /usr/local/lib/python3.7/dist-packages (from scikit-image->-r requirements/runtime.txt (line 10)) (2021.11.2)\n",
            "Requirement already satisfied: python-dateutil>=2.1 in /usr/local/lib/python3.7/dist-packages (from matplotlib->-r requirements/runtime.txt (line 4)) (2.8.2)\n",
            "Requirement already satisfied: cycler>=0.10 in /usr/local/lib/python3.7/dist-packages (from matplotlib->-r requirements/runtime.txt (line 4)) (0.11.0)\n",
            "Requirement already satisfied: kiwisolver>=1.0.1 in /usr/local/lib/python3.7/dist-packages (from matplotlib->-r requirements/runtime.txt (line 4)) (1.4.3)\n",
            "Requirement already satisfied: pyparsing!=2.0.4,!=2.1.2,!=2.1.6,>=2.0.1 in /usr/local/lib/python3.7/dist-packages (from matplotlib->-r requirements/runtime.txt (line 4)) (3.0.9)\n",
            "Requirement already satisfied: coverage in /usr/local/lib/python3.7/dist-packages (from codecov->-r requirements/tests.txt (line 2)) (3.7.1)\n",
            "Requirement already satisfied: requests>=2.7.9 in /usr/local/lib/python3.7/dist-packages (from codecov->-r requirements/tests.txt (line 2)) (2.23.0)\n",
            "Requirement already satisfied: idna<3,>=2.5 in /usr/local/lib/python3.7/dist-packages (from requests>=2.7.9->codecov->-r requirements/tests.txt (line 2)) (2.10)\n",
            "Requirement already satisfied: certifi>=2017.4.17 in /usr/local/lib/python3.7/dist-packages (from requests>=2.7.9->codecov->-r requirements/tests.txt (line 2)) (2022.6.15)\n",
            "Requirement already satisfied: chardet<4,>=3.0.2 in /usr/local/lib/python3.7/dist-packages (from requests>=2.7.9->codecov->-r requirements/tests.txt (line 2)) (3.0.4)\n",
            "Requirement already satisfied: urllib3!=1.25.0,!=1.25.1,<1.26,>=1.21.1 in /usr/local/lib/python3.7/dist-packages (from requests>=2.7.9->codecov->-r requirements/tests.txt (line 2)) (1.24.3)\n",
            "Collecting mccabe<0.7.0,>=0.6.0\n",
            "  Downloading mccabe-0.6.1-py2.py3-none-any.whl (8.6 kB)\n",
            "Collecting importlib-metadata<4.3\n",
            "  Downloading importlib_metadata-4.2.0-py3-none-any.whl (16 kB)\n",
            "Collecting pycodestyle<2.9.0,>=2.8.0\n",
            "  Downloading pycodestyle-2.8.0-py2.py3-none-any.whl (42 kB)\n",
            "\u001b[K     |████████████████████████████████| 42 kB 1.0 MB/s \n",
            "\u001b[?25hCollecting pyflakes<2.5.0,>=2.4.0\n",
            "  Downloading pyflakes-2.4.0-py2.py3-none-any.whl (69 kB)\n",
            "\u001b[K     |████████████████████████████████| 69 kB 7.8 MB/s \n",
            "\u001b[?25hRequirement already satisfied: zipp>=0.5 in /usr/local/lib/python3.7/dist-packages (from importlib-metadata<4.3->flake8->-r requirements/tests.txt (line 3)) (3.8.0)\n",
            "Requirement already satisfied: pluggy<0.8,>=0.5 in /usr/local/lib/python3.7/dist-packages (from pytest->-r requirements/tests.txt (line 7)) (0.7.1)\n",
            "Requirement already satisfied: setuptools in /usr/local/lib/python3.7/dist-packages (from pytest->-r requirements/tests.txt (line 7)) (57.4.0)\n",
            "Requirement already satisfied: atomicwrites>=1.0 in /usr/local/lib/python3.7/dist-packages (from pytest->-r requirements/tests.txt (line 7)) (1.4.1)\n",
            "Requirement already satisfied: py>=1.5.0 in /usr/local/lib/python3.7/dist-packages (from pytest->-r requirements/tests.txt (line 7)) (1.11.0)\n",
            "Requirement already satisfied: more-itertools>=4.0.0 in /usr/local/lib/python3.7/dist-packages (from pytest->-r requirements/tests.txt (line 7)) (8.13.0)\n",
            "Requirement already satisfied: attrs>=17.4.0 in /usr/local/lib/python3.7/dist-packages (from pytest->-r requirements/tests.txt (line 7)) (21.4.0)\n",
            "Collecting coverage[toml]>=5.2.1\n",
            "  Downloading coverage-6.4.2-cp37-cp37m-manylinux_2_5_x86_64.manylinux1_x86_64.manylinux_2_17_x86_64.manylinux2014_x86_64.whl (209 kB)\n",
            "\u001b[K     |████████████████████████████████| 209 kB 53.3 MB/s \n",
            "\u001b[?25hCollecting pytest\n",
            "  Downloading pytest-7.1.2-py3-none-any.whl (297 kB)\n",
            "\u001b[K     |████████████████████████████████| 297 kB 44.4 MB/s \n",
            "\u001b[?25hRequirement already satisfied: packaging in /usr/local/lib/python3.7/dist-packages (from pytest->-r requirements/tests.txt (line 7)) (21.3)\n",
            "  Downloading pytest-7.1.1-py3-none-any.whl (297 kB)\n",
            "\u001b[K     |████████████████████████████████| 297 kB 51.2 MB/s \n",
            "\u001b[?25h  Downloading pytest-7.1.0-py3-none-any.whl (297 kB)\n",
            "\u001b[K     |████████████████████████████████| 297 kB 53.1 MB/s \n",
            "\u001b[?25h  Downloading pytest-7.0.1-py3-none-any.whl (296 kB)\n",
            "\u001b[K     |████████████████████████████████| 296 kB 31.2 MB/s \n",
            "\u001b[?25h  Downloading pytest-7.0.0-py3-none-any.whl (296 kB)\n",
            "\u001b[K     |████████████████████████████████| 296 kB 54.0 MB/s \n",
            "\u001b[?25h  Downloading pytest-6.2.5-py3-none-any.whl (280 kB)\n",
            "\u001b[K     |████████████████████████████████| 280 kB 49.7 MB/s \n",
            "\u001b[?25h  Downloading pytest-6.2.4-py3-none-any.whl (280 kB)\n",
            "\u001b[K     |████████████████████████████████| 280 kB 51.3 MB/s \n",
            "\u001b[?25hRequirement already satisfied: iniconfig in /usr/local/lib/python3.7/dist-packages (from pytest->-r requirements/tests.txt (line 7)) (1.1.1)\n",
            "  Downloading pytest-6.2.3-py3-none-any.whl (280 kB)\n",
            "\u001b[K     |████████████████████████████████| 280 kB 54.9 MB/s \n",
            "\u001b[?25h  Downloading pytest-6.2.2-py3-none-any.whl (280 kB)\n",
            "\u001b[K     |████████████████████████████████| 280 kB 52.3 MB/s \n",
            "\u001b[?25h  Downloading pytest-6.2.1-py3-none-any.whl (279 kB)\n",
            "\u001b[K     |████████████████████████████████| 279 kB 41.1 MB/s \n",
            "\u001b[?25h  Downloading pytest-6.2.0-py3-none-any.whl (279 kB)\n",
            "\u001b[K     |████████████████████████████████| 279 kB 50.0 MB/s \n",
            "\u001b[?25h  Downloading pytest-6.1.2-py3-none-any.whl (272 kB)\n",
            "\u001b[K     |████████████████████████████████| 272 kB 50.6 MB/s \n",
            "\u001b[?25hCollecting toml\n",
            "  Downloading toml-0.10.2-py2.py3-none-any.whl (16 kB)\n",
            "Collecting pytest\n",
            "  Downloading pytest-6.1.1-py3-none-any.whl (272 kB)\n",
            "\u001b[K     |████████████████████████████████| 272 kB 54.5 MB/s \n",
            "\u001b[?25h  Downloading pytest-6.1.0-py3-none-any.whl (272 kB)\n",
            "\u001b[K     |████████████████████████████████| 272 kB 56.4 MB/s \n",
            "\u001b[?25h  Downloading pytest-6.0.2-py3-none-any.whl (270 kB)\n",
            "\u001b[K     |████████████████████████████████| 270 kB 50.2 MB/s \n",
            "\u001b[?25h  Downloading pytest-6.0.1-py3-none-any.whl (270 kB)\n",
            "\u001b[K     |████████████████████████████████| 270 kB 47.2 MB/s \n",
            "\u001b[?25h  Downloading pytest-6.0.0-py3-none-any.whl (270 kB)\n",
            "\u001b[K     |████████████████████████████████| 270 kB 46.5 MB/s \n",
            "\u001b[?25h  Downloading pytest-5.4.3-py3-none-any.whl (248 kB)\n",
            "\u001b[K     |████████████████████████████████| 248 kB 41.7 MB/s \n",
            "\u001b[?25hRequirement already satisfied: wcwidth in /usr/local/lib/python3.7/dist-packages (from pytest->-r requirements/tests.txt (line 7)) (0.2.5)\n",
            "  Downloading pytest-5.4.2-py3-none-any.whl (247 kB)\n",
            "\u001b[K     |████████████████████████████████| 247 kB 47.9 MB/s \n",
            "\u001b[?25h  Downloading pytest-5.4.1-py3-none-any.whl (246 kB)\n",
            "\u001b[K     |████████████████████████████████| 246 kB 48.7 MB/s \n",
            "\u001b[?25h  Downloading pytest-5.4.0-py3-none-any.whl (247 kB)\n",
            "\u001b[K     |████████████████████████████████| 247 kB 50.4 MB/s \n",
            "\u001b[?25h  Downloading pytest-5.3.5-py3-none-any.whl (235 kB)\n",
            "\u001b[K     |████████████████████████████████| 235 kB 44.7 MB/s \n",
            "\u001b[?25h  Downloading pytest-5.3.4-py3-none-any.whl (235 kB)\n",
            "\u001b[K     |████████████████████████████████| 235 kB 53.2 MB/s \n",
            "\u001b[?25h  Downloading pytest-5.3.3-py3-none-any.whl (235 kB)\n",
            "\u001b[K     |████████████████████████████████| 235 kB 42.4 MB/s \n",
            "\u001b[?25h  Downloading pytest-5.3.2-py3-none-any.whl (234 kB)\n",
            "\u001b[K     |████████████████████████████████| 234 kB 52.7 MB/s \n",
            "\u001b[?25h  Downloading pytest-5.3.1-py3-none-any.whl (233 kB)\n",
            "\u001b[K     |████████████████████████████████| 233 kB 53.6 MB/s \n",
            "\u001b[?25h  Downloading pytest-5.3.0-py3-none-any.whl (233 kB)\n",
            "\u001b[K     |████████████████████████████████| 233 kB 32.4 MB/s \n",
            "\u001b[?25h  Downloading pytest-5.2.4-py3-none-any.whl (227 kB)\n",
            "\u001b[K     |████████████████████████████████| 227 kB 52.0 MB/s \n",
            "\u001b[?25h  Downloading pytest-5.2.3-py3-none-any.whl (227 kB)\n",
            "\u001b[K     |████████████████████████████████| 227 kB 54.9 MB/s \n",
            "\u001b[?25h  Downloading pytest-5.2.2-py3-none-any.whl (227 kB)\n",
            "\u001b[K     |████████████████████████████████| 227 kB 49.5 MB/s \n",
            "\u001b[?25h  Downloading pytest-5.2.1-py3-none-any.whl (226 kB)\n",
            "\u001b[K     |████████████████████████████████| 226 kB 51.5 MB/s \n",
            "\u001b[?25h  Downloading pytest-5.2.0-py3-none-any.whl (226 kB)\n",
            "\u001b[K     |████████████████████████████████| 226 kB 51.8 MB/s \n",
            "\u001b[?25h  Downloading pytest-5.1.3-py3-none-any.whl (224 kB)\n",
            "\u001b[K     |████████████████████████████████| 224 kB 51.7 MB/s \n",
            "\u001b[?25h  Downloading pytest-5.1.2-py3-none-any.whl (224 kB)\n",
            "\u001b[K     |████████████████████████████████| 224 kB 52.8 MB/s \n",
            "\u001b[?25h  Downloading pytest-5.1.1-py3-none-any.whl (223 kB)\n",
            "\u001b[K     |████████████████████████████████| 223 kB 52.4 MB/s \n",
            "\u001b[?25h  Downloading pytest-5.1.0-py3-none-any.whl (223 kB)\n",
            "\u001b[K     |████████████████████████████████| 223 kB 49.8 MB/s \n",
            "\u001b[?25h  Downloading pytest-5.0.1-py3-none-any.whl (221 kB)\n",
            "\u001b[K     |████████████████████████████████| 221 kB 51.4 MB/s \n",
            "\u001b[?25h  Downloading pytest-5.0.0-py3-none-any.whl (221 kB)\n",
            "\u001b[K     |████████████████████████████████| 221 kB 39.9 MB/s \n",
            "\u001b[?25h  Downloading pytest-4.6.11-py2.py3-none-any.whl (231 kB)\n",
            "\u001b[K     |████████████████████████████████| 231 kB 49.9 MB/s \n",
            "\u001b[?25h  Downloading pytest-4.6.10-py2.py3-none-any.whl (231 kB)\n",
            "\u001b[K     |████████████████████████████████| 231 kB 50.8 MB/s \n",
            "\u001b[?25h  Downloading pytest-4.6.9-py2.py3-none-any.whl (231 kB)\n",
            "\u001b[K     |████████████████████████████████| 231 kB 48.6 MB/s \n",
            "\u001b[?25h  Downloading pytest-4.6.8-py2.py3-none-any.whl (230 kB)\n",
            "\u001b[K     |████████████████████████████████| 230 kB 44.4 MB/s \n",
            "\u001b[?25h  Downloading pytest-4.6.7-py2.py3-none-any.whl (230 kB)\n",
            "\u001b[K     |████████████████████████████████| 230 kB 49.0 MB/s \n",
            "\u001b[?25h  Downloading pytest-4.6.6-py2.py3-none-any.whl (230 kB)\n",
            "\u001b[K     |████████████████████████████████| 230 kB 49.7 MB/s \n",
            "\u001b[?25h  Downloading pytest-4.6.5-py2.py3-none-any.whl (230 kB)\n",
            "\u001b[K     |████████████████████████████████| 230 kB 51.1 MB/s \n",
            "\u001b[?25h  Downloading pytest-4.6.4-py2.py3-none-any.whl (229 kB)\n",
            "\u001b[K     |████████████████████████████████| 229 kB 51.8 MB/s \n",
            "\u001b[?25h  Downloading pytest-4.6.3-py2.py3-none-any.whl (229 kB)\n",
            "\u001b[K     |████████████████████████████████| 229 kB 53.7 MB/s \n",
            "\u001b[?25h  Downloading pytest-4.6.2-py2.py3-none-any.whl (229 kB)\n",
            "\u001b[K     |████████████████████████████████| 229 kB 55.2 MB/s \n",
            "\u001b[?25h  Downloading pytest-4.6.1-py2.py3-none-any.whl (229 kB)\n",
            "\u001b[K     |████████████████████████████████| 229 kB 51.0 MB/s \n",
            "\u001b[?25h  Downloading pytest-4.6.0-py2.py3-none-any.whl (229 kB)\n",
            "\u001b[K     |████████████████████████████████| 229 kB 50.1 MB/s \n",
            "\u001b[?25hINFO: pip is looking at multiple versions of pytest-cov to determine which version is compatible with other requirements. This could take a while.\n",
            "Collecting pytest-cov\n",
            "  Downloading pytest_cov-2.12.1-py2.py3-none-any.whl (20 kB)\n",
            "  Downloading pytest_cov-2.12.0-py2.py3-none-any.whl (20 kB)\n",
            "  Downloading pytest_cov-2.11.1-py2.py3-none-any.whl (20 kB)\n",
            "  Downloading pytest_cov-2.11.0-py2.py3-none-any.whl (20 kB)\n",
            "  Downloading pytest_cov-2.10.1-py2.py3-none-any.whl (19 kB)\n",
            "  Downloading pytest_cov-2.10.0-py2.py3-none-any.whl (19 kB)\n",
            "  Downloading pytest_cov-2.9.0-py2.py3-none-any.whl (19 kB)\n",
            "Building wheels for collected packages: lanms-neo\n",
            "  Building wheel for lanms-neo (PEP 517) ... \u001b[?25l\u001b[?25hdone\n",
            "  Created wheel for lanms-neo: filename=lanms_neo-1.0.2-cp37-cp37m-linux_x86_64.whl size=107341 sha256=1b671bb9ac7c65b7ed729a26bce2ecb97a3ba0fe359409776c501185bf21a7a2\n",
            "  Stored in directory: /root/.cache/pip/wheels/09/7b/5e/1e4d24a8f94c1116afa284ce2968ef2f72b986a5457164b340\n",
            "Successfully built lanms-neo\n",
            "Installing collected packages: ubelt, pyflakes, pycodestyle, opencv-python, mccabe, jarowinkler, importlib-metadata, coverage, xdoctest, rapidfuzz, pytest-runner, pytest-cov, pyclipper, lanms-neo, kwarray, isort, flake8, codecov, asynctest\n",
            "  Attempting uninstall: opencv-python\n",
            "    Found existing installation: opencv-python 4.1.2.30\n",
            "    Uninstalling opencv-python-4.1.2.30:\n",
            "      Successfully uninstalled opencv-python-4.1.2.30\n",
            "  Attempting uninstall: importlib-metadata\n",
            "    Found existing installation: importlib-metadata 4.12.0\n",
            "    Uninstalling importlib-metadata-4.12.0:\n",
            "      Successfully uninstalled importlib-metadata-4.12.0\n",
            "  Attempting uninstall: coverage\n",
            "    Found existing installation: coverage 3.7.1\n",
            "    Uninstalling coverage-3.7.1:\n",
            "      Successfully uninstalled coverage-3.7.1\n",
            "\u001b[31mERROR: pip's dependency resolver does not currently take into account all the packages that are installed. This behaviour is the source of the following dependency conflicts.\n",
            "markdown 3.3.7 requires importlib-metadata>=4.4; python_version < \"3.10\", but you have importlib-metadata 4.2.0 which is incompatible.\n",
            "datascience 0.10.6 requires coverage==3.7.1, but you have coverage 6.4.2 which is incompatible.\n",
            "datascience 0.10.6 requires folium==0.2.1, but you have folium 0.8.3 which is incompatible.\n",
            "coveralls 0.5 requires coverage<3.999,>=3.6, but you have coverage 6.4.2 which is incompatible.\n",
            "albumentations 0.1.12 requires imgaug<0.2.7,>=0.2.5, but you have imgaug 0.2.9 which is incompatible.\u001b[0m\n",
            "Successfully installed asynctest-0.13.0 codecov-2.1.12 coverage-6.4.2 flake8-4.0.1 importlib-metadata-4.2.0 isort-5.10.1 jarowinkler-1.1.2 kwarray-0.6.2 lanms-neo-1.0.2 mccabe-0.6.1 opencv-python-4.6.0.66 pyclipper-1.3.0.post3 pycodestyle-2.8.0 pyflakes-2.4.0 pytest-cov-2.9.0 pytest-runner-6.0.0 rapidfuzz-2.1.3 ubelt-1.1.2 xdoctest-1.0.1\n",
            "Using pip 21.1.3 from /usr/local/lib/python3.7/dist-packages/pip (python 3.7)\n",
            "Value for scheme.platlib does not match. Please report this to <https://github.com/pypa/pip/issues/9617>\n",
            "distutils: /usr/local/lib/python3.7/dist-packages\n",
            "sysconfig: /usr/lib/python3.7/site-packages\n",
            "Value for scheme.purelib does not match. Please report this to <https://github.com/pypa/pip/issues/9617>\n",
            "distutils: /usr/local/lib/python3.7/dist-packages\n",
            "sysconfig: /usr/lib/python3.7/site-packages\n",
            "Value for scheme.headers does not match. Please report this to <https://github.com/pypa/pip/issues/9617>\n",
            "distutils: /usr/local/include/python3.7/UNKNOWN\n",
            "sysconfig: /usr/include/python3.7m/UNKNOWN\n",
            "Value for scheme.scripts does not match. Please report this to <https://github.com/pypa/pip/issues/9617>\n",
            "distutils: /usr/local/bin\n",
            "sysconfig: /usr/bin\n",
            "Value for scheme.data does not match. Please report this to <https://github.com/pypa/pip/issues/9617>\n",
            "distutils: /usr/local\n",
            "sysconfig: /usr\n",
            "Additional context:\n",
            "user = False\n",
            "home = None\n",
            "root = None\n",
            "prefix = None\n",
            "Non-user install because site-packages writeable\n",
            "Created temporary directory: /tmp/pip-ephem-wheel-cache-i9z_ae44\n",
            "Created temporary directory: /tmp/pip-req-tracker-yp6_ci3p\n",
            "Initialized build tracking at /tmp/pip-req-tracker-yp6_ci3p\n",
            "Created build tracker: /tmp/pip-req-tracker-yp6_ci3p\n",
            "Entered build tracker: /tmp/pip-req-tracker-yp6_ci3p\n",
            "Created temporary directory: /tmp/pip-install-ofw3y5vj\n",
            "Looking in indexes: https://pypi.org/simple, https://us-python.pkg.dev/colab-wheels/public/simple/\n",
            "Obtaining file:///mmocr\n",
            "  Added file:///mmocr to build tracker '/tmp/pip-req-tracker-yp6_ci3p'\n",
            "    Running setup.py (path:/mmocr/setup.py) egg_info for package from file:///mmocr\n",
            "    Created temporary directory: /tmp/pip-pip-egg-info-hpt7m_99\n",
            "    Running command python setup.py egg_info\n",
            "    running egg_info\n",
            "    creating /tmp/pip-pip-egg-info-hpt7m_99/mmocr.egg-info\n",
            "    writing /tmp/pip-pip-egg-info-hpt7m_99/mmocr.egg-info/PKG-INFO\n",
            "    writing dependency_links to /tmp/pip-pip-egg-info-hpt7m_99/mmocr.egg-info/dependency_links.txt\n",
            "    writing requirements to /tmp/pip-pip-egg-info-hpt7m_99/mmocr.egg-info/requires.txt\n",
            "    writing top-level names to /tmp/pip-pip-egg-info-hpt7m_99/mmocr.egg-info/top_level.txt\n",
            "    writing manifest file '/tmp/pip-pip-egg-info-hpt7m_99/mmocr.egg-info/SOURCES.txt'\n",
            "    reading manifest template 'MANIFEST.in'\n",
            "    warning: no files found matching 'mmocr/.mim/model-index.yml'\n",
            "    warning: no files found matching '*.py' under directory 'mmocr/.mim/configs'\n",
            "    warning: no files found matching '*.yml' under directory 'mmocr/.mim/configs'\n",
            "    warning: no files found matching '*.sh' under directory 'mmocr/.mim/tools'\n",
            "    warning: no files found matching '*.py' under directory 'mmocr/.mim/tools'\n",
            "    adding license file 'LICENSE'\n",
            "    writing manifest file '/tmp/pip-pip-egg-info-hpt7m_99/mmocr.egg-info/SOURCES.txt'\n",
            "  Source in /mmocr has version 0.6.0, which satisfies requirement mmocr==0.6.0 from file:///mmocr\n",
            "  Removed mmocr==0.6.0 from file:///mmocr from build tracker '/tmp/pip-req-tracker-yp6_ci3p'\n",
            "Requirement already satisfied: imgaug in /usr/local/lib/python3.7/dist-packages (from mmocr==0.6.0) (0.2.9)\n",
            "Requirement already satisfied: lanms-neo==1.0.2 in /usr/local/lib/python3.7/dist-packages (from mmocr==0.6.0) (1.0.2)\n",
            "Requirement already satisfied: lmdb in /usr/local/lib/python3.7/dist-packages (from mmocr==0.6.0) (0.99)\n",
            "Requirement already satisfied: matplotlib in /usr/local/lib/python3.7/dist-packages (from mmocr==0.6.0) (3.2.2)\n",
            "Requirement already satisfied: numpy in /usr/local/lib/python3.7/dist-packages (from mmocr==0.6.0) (1.21.6)\n",
            "Requirement already satisfied: opencv-python!=4.5.5.*,>=4.2.0.32 in /usr/local/lib/python3.7/dist-packages (from mmocr==0.6.0) (4.6.0.66)\n",
            "Requirement already satisfied: pyclipper in /usr/local/lib/python3.7/dist-packages (from mmocr==0.6.0) (1.3.0.post3)\n",
            "Requirement already satisfied: pycocotools in /usr/local/lib/python3.7/dist-packages (from mmocr==0.6.0) (2.0.4)\n",
            "Requirement already satisfied: rapidfuzz>=2.0.0 in /usr/local/lib/python3.7/dist-packages (from mmocr==0.6.0) (2.1.3)\n",
            "Requirement already satisfied: scikit-image in /usr/local/lib/python3.7/dist-packages (from mmocr==0.6.0) (0.18.3)\n",
            "Requirement already satisfied: jarowinkler<2.0.0,>=1.1.0 in /usr/local/lib/python3.7/dist-packages (from rapidfuzz>=2.0.0->mmocr==0.6.0) (1.1.2)\n",
            "Requirement already satisfied: imageio in /usr/local/lib/python3.7/dist-packages (from imgaug->mmocr==0.6.0) (2.4.1)\n",
            "Requirement already satisfied: six in /usr/local/lib/python3.7/dist-packages (from imgaug->mmocr==0.6.0) (1.15.0)\n",
            "Requirement already satisfied: scipy in /usr/local/lib/python3.7/dist-packages (from imgaug->mmocr==0.6.0) (1.7.3)\n",
            "Requirement already satisfied: Shapely in /usr/local/lib/python3.7/dist-packages (from imgaug->mmocr==0.6.0) (1.8.2)\n",
            "Requirement already satisfied: Pillow in /usr/local/lib/python3.7/dist-packages (from imgaug->mmocr==0.6.0) (7.1.2)\n",
            "Requirement already satisfied: tifffile>=2019.7.26 in /usr/local/lib/python3.7/dist-packages (from scikit-image->mmocr==0.6.0) (2021.11.2)\n",
            "Requirement already satisfied: PyWavelets>=1.1.1 in /usr/local/lib/python3.7/dist-packages (from scikit-image->mmocr==0.6.0) (1.3.0)\n",
            "Requirement already satisfied: networkx>=2.0 in /usr/local/lib/python3.7/dist-packages (from scikit-image->mmocr==0.6.0) (2.6.3)\n",
            "Requirement already satisfied: pyparsing!=2.0.4,!=2.1.2,!=2.1.6,>=2.0.1 in /usr/local/lib/python3.7/dist-packages (from matplotlib->mmocr==0.6.0) (3.0.9)\n",
            "Requirement already satisfied: kiwisolver>=1.0.1 in /usr/local/lib/python3.7/dist-packages (from matplotlib->mmocr==0.6.0) (1.4.3)\n",
            "Requirement already satisfied: cycler>=0.10 in /usr/local/lib/python3.7/dist-packages (from matplotlib->mmocr==0.6.0) (0.11.0)\n",
            "Requirement already satisfied: python-dateutil>=2.1 in /usr/local/lib/python3.7/dist-packages (from matplotlib->mmocr==0.6.0) (2.8.2)\n",
            "Requirement already satisfied: typing-extensions in /usr/local/lib/python3.7/dist-packages (from kiwisolver>=1.0.1->matplotlib->mmocr==0.6.0) (4.1.1)\n",
            "Created temporary directory: /tmp/pip-unpack-pgv54yf2\n",
            "Installing collected packages: mmocr\n",
            "  Value for scheme.platlib does not match. Please report this to <https://github.com/pypa/pip/issues/9617>\n",
            "  distutils: /usr/local/lib/python3.7/dist-packages\n",
            "  sysconfig: /usr/lib/python3.7/site-packages\n",
            "  Value for scheme.purelib does not match. Please report this to <https://github.com/pypa/pip/issues/9617>\n",
            "  distutils: /usr/local/lib/python3.7/dist-packages\n",
            "  sysconfig: /usr/lib/python3.7/site-packages\n",
            "  Value for scheme.headers does not match. Please report this to <https://github.com/pypa/pip/issues/9617>\n",
            "  distutils: /usr/local/include/python3.7/mmocr\n",
            "  sysconfig: /usr/include/python3.7m/mmocr\n",
            "  Value for scheme.scripts does not match. Please report this to <https://github.com/pypa/pip/issues/9617>\n",
            "  distutils: /usr/local/bin\n",
            "  sysconfig: /usr/bin\n",
            "  Value for scheme.data does not match. Please report this to <https://github.com/pypa/pip/issues/9617>\n",
            "  distutils: /usr/local\n",
            "  sysconfig: /usr\n",
            "  Additional context:\n",
            "  user = False\n",
            "  home = None\n",
            "  root = None\n",
            "  prefix = None\n",
            "  Running setup.py develop for mmocr\n",
            "    Running command /usr/bin/python3 -c 'import io, os, sys, setuptools, tokenize; sys.argv[0] = '\"'\"'/mmocr/setup.py'\"'\"'; __file__='\"'\"'/mmocr/setup.py'\"'\"';f = getattr(tokenize, '\"'\"'open'\"'\"', open)(__file__) if os.path.exists(__file__) else io.StringIO('\"'\"'from setuptools import setup; setup()'\"'\"');code = f.read().replace('\"'\"'\\r\\n'\"'\"', '\"'\"'\\n'\"'\"');f.close();exec(compile(code, __file__, '\"'\"'exec'\"'\"'))' develop --no-deps\n",
            "    running develop\n",
            "    running egg_info\n",
            "    creating mmocr.egg-info\n",
            "    writing mmocr.egg-info/PKG-INFO\n",
            "    writing dependency_links to mmocr.egg-info/dependency_links.txt\n",
            "    writing requirements to mmocr.egg-info/requires.txt\n",
            "    writing top-level names to mmocr.egg-info/top_level.txt\n",
            "    writing manifest file 'mmocr.egg-info/SOURCES.txt'\n",
            "    reading manifest template 'MANIFEST.in'\n",
            "    adding license file 'LICENSE'\n",
            "    writing manifest file 'mmocr.egg-info/SOURCES.txt'\n",
            "    running build_ext\n",
            "    Creating /usr/local/lib/python3.7/dist-packages/mmocr.egg-link (link to .)\n",
            "    Adding mmocr 0.6.0 to easy-install.pth file\n",
            "\n",
            "    Installed /mmocr\n",
            "Value for scheme.platlib does not match. Please report this to <https://github.com/pypa/pip/issues/9617>\n",
            "distutils: /usr/local/lib/python3.7/dist-packages\n",
            "sysconfig: /usr/lib/python3.7/site-packages\n",
            "Value for scheme.purelib does not match. Please report this to <https://github.com/pypa/pip/issues/9617>\n",
            "distutils: /usr/local/lib/python3.7/dist-packages\n",
            "sysconfig: /usr/lib/python3.7/site-packages\n",
            "Value for scheme.headers does not match. Please report this to <https://github.com/pypa/pip/issues/9617>\n",
            "distutils: /usr/local/include/python3.7/UNKNOWN\n",
            "sysconfig: /usr/include/python3.7m/UNKNOWN\n",
            "Value for scheme.scripts does not match. Please report this to <https://github.com/pypa/pip/issues/9617>\n",
            "distutils: /usr/local/bin\n",
            "sysconfig: /usr/bin\n",
            "Value for scheme.data does not match. Please report this to <https://github.com/pypa/pip/issues/9617>\n",
            "distutils: /usr/local\n",
            "sysconfig: /usr\n",
            "Additional context:\n",
            "user = False\n",
            "home = None\n",
            "root = None\n",
            "prefix = None\n",
            "Successfully installed mmocr-0.6.0\n",
            "Removed build tracker: '/tmp/pip-req-tracker-yp6_ci3p'\n"
          ]
        }
      ],
      "metadata": {
        "colab": {
          "base_uri": "https://localhost:8080/"
        },
        "id": "DwDY3puNNmhe",
        "tags": [
          "outputPrepend"
        ],
        "outputId": "b3997b2c-f85c-415c-d8de-1fa5a66964dc"
      }
    },
    {
      "cell_type": "markdown",
      "source": [
        "### Check Installed Dependencies Versions"
      ],
      "metadata": {
        "id": "DY64JCc0pEUu"
      }
    },
    {
      "cell_type": "code",
      "execution_count": 5,
      "source": [
        "# Check Pytorch installation\n",
        "import torch, torchvision\n",
        "print(torch.__version__, torch.cuda.is_available())\n",
        "\n",
        "# Check MMDetection installation\n",
        "import mmdet\n",
        "print(mmdet.__version__)\n",
        "\n",
        "# Check mmcv installation\n",
        "import mmcv\n",
        "from mmcv.ops import get_compiling_cuda_version, get_compiler_version\n",
        "print(mmcv.__version__)\n",
        "print(get_compiling_cuda_version())\n",
        "print(get_compiler_version())\n",
        "\n",
        "# Check mmocr installation\n",
        "import mmocr\n",
        "print(mmocr.__version__)\n",
        "\n",
        "%cd /mmocr/\n",
        "!ls"
      ],
      "outputs": [
        {
          "output_type": "stream",
          "name": "stdout",
          "text": [
            "1.12.0+cu113 True\n",
            "2.25.0\n",
            "1.6.0\n",
            "11.3\n",
            "GCC 9.3\n",
            "0.6.0\n",
            "/mmocr\n",
            "CITATION.cff  docs\t   mmocr.egg-info   requirements      setup.py\n",
            "configs       LICENSE\t   model-index.yml  requirements.txt  tests\n",
            "demo\t      MANIFEST.in  README.md\t    resources\t      tools\n",
            "docker\t      mmocr\t   README_zh-CN.md  setup.cfg\n"
          ]
        }
      ],
      "metadata": {
        "colab": {
          "base_uri": "https://localhost:8080/"
        },
        "id": "JABQfPwQN52g",
        "outputId": "7070b581-a955-4b91-e126-272f7403c97e"
      }
    },
    {
      "cell_type": "markdown",
      "source": [
        "### Note: check working dir path carefully!"
      ],
      "metadata": {
        "id": "rLe6N4Qb2vSD"
      }
    },
    {
      "cell_type": "code",
      "source": [
        "pwd"
      ],
      "metadata": {
        "colab": {
          "base_uri": "https://localhost:8080/",
          "height": 35
        },
        "id": "OKNL3YjB2wLE",
        "outputId": "32850a02-7d94-4b03-dbcc-9c15a70508a3"
      },
      "execution_count": 6,
      "outputs": [
        {
          "output_type": "execute_result",
          "data": {
            "text/plain": [
              "'/mmocr'"
            ],
            "application/vnd.google.colaboratory.intrinsic+json": {
              "type": "string"
            }
          },
          "metadata": {},
          "execution_count": 6
        }
      ]
    },
    {
      "cell_type": "markdown",
      "source": [
        "### Create mmocr custom class"
      ],
      "metadata": {
        "id": "4v8Lrr1F4tZj"
      }
    },
    {
      "cell_type": "code",
      "source": [
        "from mmocr.utils.ocr import MMOCR\n",
        "import os\n",
        "import matplotlib.pyplot as plt\n",
        "import json\n",
        "from google.colab.patches import cv2_imshow\n",
        "import cv2\n",
        "\n",
        "class MMOCR_Custom:\n",
        "  def __init__(self, image_path, output_folder, export_json_folder):\n",
        "    self.image_path = image_path\n",
        "    self.filename = os.path.splitext(os.path.basename(image_path))[0]\n",
        "    if(output_folder[-1]!=\"/\"):\n",
        "      self.output_file_path = output_folder+\"/\"+self.filename+'_pred.jpg'\n",
        "    else:\n",
        "      self.output_file_path = output_folder+self.filename+'_pred.jpg'\n",
        "\n",
        "    if(export_json_folder[-1]!=\"/\"):\n",
        "      self.export_json_folder = export_json_folder+\"/\"\n",
        "    else:\n",
        "      self.export_json_folder = export_json_folder\n",
        "    self.export_json_path = export_json_folder+'/out_'+self.filename+'.json'\n",
        "    self._isRun = 0\n",
        "    self.__run()\n",
        "  def load_json_file_helper(self, path):\n",
        "    # Opening JSON file\n",
        "    f = open(path)\n",
        "      \n",
        "    # returns JSON object as \n",
        "    # a dictionary\n",
        "    json_obj = json.load(f)\n",
        "    return json_obj\n",
        "\n",
        " \n",
        "\n",
        "\n",
        "  def crop_helper(self,img, box_coordinate, save_path):\n",
        "    # coordinate in mmocr format (x,y)\n",
        "    x_list = []\n",
        "    y_list = []\n",
        "    for i in range (0,len(box_coordinate),2):\n",
        "      x_list.append(box_coordinate[i])\n",
        "      y_list.append(box_coordinate[i+1])\n",
        "    x_max = max(x_list)\n",
        "    x_min = min(x_list)\n",
        "    y_max = max(y_list)\n",
        "    y_min = min(y_list)\n",
        "    # opencv format (y,x)\n",
        "    crop_img = img[y_min:y_max, x_min:x_max]\n",
        "    cv2.imwrite(save_path, crop_img)\n",
        "    cv2_imshow(crop_img)\n",
        "\n",
        "    return crop_img\n",
        "  def __run(self):\n",
        "    ocr = MMOCR()\n",
        "    self.json_result = ocr.readtext(self.image_path, output = self.output_file_path, print_result=False, details=True, imshow=False, export= self.export_json_folder)\n",
        "\n",
        "  def visualize_result(self):\n",
        "    predicted_img = mmcv.imread(self.output_file_path)\n",
        "    plt.imshow(mmcv.bgr2rgb(predicted_img))\n",
        "    plt.show()\n",
        "    \n",
        "  def bounding_boxes(self):\n",
        "    data = self.load_json_file_helper(self.export_json_path)\n",
        "    boxes_info = data[\"result\"]\n",
        "    return boxes_info\n",
        "  def bounding_boxes_coordinates(self):\n",
        "    boxes= self.bounding_boxes()\n",
        "    boxes_coordinates = [box[\"box\"] for box in boxes]\n",
        "    return boxes_coordinates\n",
        "  def visualize_cropped_result(self, cropped_result_folder): \n",
        "    print(\"Cropped results saved at:\",cropped_result_folder)\n",
        "    print(\"RESULTS:\")\n",
        "\n",
        "    boxes_info = self.bounding_boxes()\n",
        "\n",
        "    data = self.load_json_file_helper(self.export_json_path)\n",
        "    boxes_info = data[\"result\"]\n",
        "    i = 1\n",
        "    for box_info in boxes_info:\n",
        "      print(box_info)\n",
        "      box = box_info[\"box\"]\n",
        "      test_img = cv2.imread(self.image_path)\n",
        "      print(cropped_result_folder+box_info[\"text\"]+\".jpg\")\n",
        "      self.crop_helper(test_img, box, cropped_result_folder+box_info[\"text\"]+\".jpg\")\n",
        "      print(\"--------------------//----------------------\")\n"
      ],
      "metadata": {
        "id": "5a1QD5-hYa9A"
      },
      "execution_count": 7,
      "outputs": []
    },
    {
      "cell_type": "code",
      "source": [
        "my_mmocr = MMOCR_Custom(image_path = \"/mmocr/demo/demo_text_det.jpg\",\n",
        "                        output_folder = \"/mmocr/outputs/images/\",\n",
        "                        export_json_folder = '/mmocr/outputs/json_outputs/')"
      ],
      "metadata": {
        "colab": {
          "base_uri": "https://localhost:8080/",
          "height": 208,
          "referenced_widgets": [
            "a8158308bb5543ffbf0904d4a2fff6b5",
            "d345757d617241508659908fd325ea7e",
            "9139281deb6e4a65bfb4185385bcaf50",
            "596c840b7c3e442f940c3252870429ac",
            "a3dd87960882436186482f8b03f5777d",
            "74451d632c5d45bf904a6312f4bda6d6",
            "d8269b6d13e3402db1d966e0d22d864e",
            "929894a93ac947d9a9498d8b070b0f36",
            "ee83ef06b4064fd4bb90e144640bdc83",
            "07c12677089f4f25aef6d2ac04b97d60",
            "a5d0a4de4d58443090a525c8b497f78e",
            "9102c3b5ef014eac92f26898e6908e5b",
            "4b341eb7b0f4425ab3ea8420b062c42e",
            "0f8fb62692c54475b15d8ddb5d4281d2",
            "2ff6c83b5993473c9c7f5f8881518013",
            "20819ca691d8471faff4c57b77bd9b0c",
            "da3893720f4a46959da0c1fc1a1e479a",
            "9f743f6fd7b045139c032c4096c5d755",
            "d5b7bc241e6b4b3fb36564c99058211d",
            "30d3a73b747147428bd7764a36824fc5",
            "6c543e75b9174ecab7cb54b2156588e2",
            "69ecdbe4f46b405ab80a70130f988b0f"
          ]
        },
        "id": "cuvOLyN6oeOs",
        "outputId": "1ed31c7c-ce30-4071-9acb-1c1f76f7da2f"
      },
      "execution_count": 8,
      "outputs": [
        {
          "output_type": "stream",
          "name": "stdout",
          "text": [
            "load checkpoint from http path: https://download.openmmlab.com/mmocr/textdet/panet/panet_r18_fpem_ffm_sbn_600e_icdar2015_20210219-42dbe46a.pth\n"
          ]
        },
        {
          "output_type": "stream",
          "name": "stderr",
          "text": [
            "Downloading: \"https://download.openmmlab.com/mmocr/textdet/panet/panet_r18_fpem_ffm_sbn_600e_icdar2015_20210219-42dbe46a.pth\" to /root/.cache/torch/hub/checkpoints/panet_r18_fpem_ffm_sbn_600e_icdar2015_20210219-42dbe46a.pth\n"
          ]
        },
        {
          "output_type": "display_data",
          "data": {
            "text/plain": [
              "  0%|          | 0.00/44.0M [00:00<?, ?B/s]"
            ],
            "application/vnd.jupyter.widget-view+json": {
              "version_major": 2,
              "version_minor": 0,
              "model_id": "a8158308bb5543ffbf0904d4a2fff6b5"
            }
          },
          "metadata": {}
        },
        {
          "output_type": "stream",
          "name": "stdout",
          "text": [
            "load checkpoint from http path: https://download.openmmlab.com/mmocr/textrecog/seg/seg_r31_1by16_fpnocr_academic-72235b11.pth\n"
          ]
        },
        {
          "output_type": "stream",
          "name": "stderr",
          "text": [
            "Downloading: \"https://download.openmmlab.com/mmocr/textrecog/seg/seg_r31_1by16_fpnocr_academic-72235b11.pth\" to /root/.cache/torch/hub/checkpoints/seg_r31_1by16_fpnocr_academic-72235b11.pth\n"
          ]
        },
        {
          "output_type": "display_data",
          "data": {
            "text/plain": [
              "  0%|          | 0.00/182M [00:00<?, ?B/s]"
            ],
            "application/vnd.jupyter.widget-view+json": {
              "version_major": 2,
              "version_minor": 0,
              "model_id": "9102c3b5ef014eac92f26898e6908e5b"
            }
          },
          "metadata": {}
        },
        {
          "output_type": "stream",
          "name": "stderr",
          "text": [
            "/usr/local/lib/python3.7/dist-packages/mmdet/datasets/utils.py:70: UserWarning: \"ImageToTensor\" pipeline is replaced by \"DefaultFormatBundle\" for batch inference. It is recommended to manually replace it in the test data pipeline in your config file.\n",
            "  'data pipeline in your config file.', UserWarning)\n"
          ]
        }
      ]
    },
    {
      "cell_type": "markdown",
      "source": [
        "### Visualize the result"
      ],
      "metadata": {
        "id": "MJqgciUs5nwD"
      }
    },
    {
      "cell_type": "code",
      "source": [
        "my_mmocr.visualize_result()"
      ],
      "metadata": {
        "colab": {
          "base_uri": "https://localhost:8080/",
          "height": 152
        },
        "id": "uH9ZZ_fNu7Et",
        "outputId": "de7a0a9e-8c7f-4ad9-cf24-6be162ac8215"
      },
      "execution_count": 9,
      "outputs": [
        {
          "output_type": "display_data",
          "data": {
            "text/plain": [
              "<Figure size 432x288 with 1 Axes>"
            ],
            "image/png": "[encoded data removed]"
          },
          "metadata": {
            "needs_background": "light"
          }
        }
      ]
    },
    {
      "cell_type": "markdown",
      "source": [
        "### Get JSON result"
      ],
      "metadata": {
        "id": "-aZXupiM2kcD"
      }
    },
    {
      "cell_type": "code",
      "source": [
        "print(my_mmocr.json_result)"
      ],
      "metadata": {
        "colab": {
          "base_uri": "https://localhost:8080/"
        },
        "id": "gJVPxqIbssb4",
        "outputId": "9e778eb4-afa8-4204-dc70-69f1d4c05657"
      },
      "execution_count": 10,
      "outputs": [
        {
          "output_type": "stream",
          "name": "stdout",
          "text": [
            "[{'filename': 'demo_text_det', 'result': [{'box': [191, 39, 239, 31, 241, 44, 193, 52], 'box_score': 0.9748765230178833, 'text': 'aborougho', 'text_score': 0.9753086419753088}, {'box': [240, 34, 253, 34, 253, 45, 240, 45], 'box_score': 0.9292463660240173, 'text': 'iof', 'text_score': 1.3333333333333333}, {'box': [252, 47, 259, 34, 308, 62, 301, 74], 'box_score': 0.9515694379806519, 'text': 'suat', 'text_score': 0.9583333333333334}, {'box': [156, 60, 188, 41, 194, 52, 163, 71], 'box_score': 0.954505980014801, 'text': 'londonb', 'text_score': 1.0}, {'box': [251, 79, 294, 76, 296, 97, 252, 99], 'box_score': 0.9551578164100647, 'text': 'hill', 'text_score': 1.0}, {'box': [165, 78, 247, 78, 247, 99, 165, 99], 'box_score': 0.9459986686706543, 'text': 'octavia', 'text_score': 1.0}, {'box': [165, 105, 216, 105, 216, 122, 165, 122], 'box_score': 0.9782547354698181, 'text': 'social', 'text_score': 1.0}, {'box': [220, 105, 294, 105, 294, 122, 220, 122], 'box_score': 0.9601640701293945, 'text': 'reformer', 'text_score': 1.0}, {'box': [150, 127, 226, 124, 227, 140, 150, 143], 'box_score': 0.9731660485267639, 'text': 'established', 'text_score': 1.0}, {'box': [229, 128, 255, 128, 255, 141, 229, 141], 'box_score': 0.9750726819038391, 'text': 'this', 'text_score': 1.0}, {'box': [262, 127, 304, 125, 305, 139, 262, 141], 'box_score': 0.9677677750587463, 'text': 'garden', 'text_score': 1.1666666666666667}, {'box': [168, 142, 195, 142, 195, 156, 168, 156], 'box_score': 0.9712427854537964, 'text': 'hall', 'text_score': 1.0}, {'box': [198, 142, 223, 142, 223, 156, 198, 156], 'box_score': 0.9310973286628723, 'text': 'and', 'text_score': 1.0}, {'box': [227, 156, 229, 141, 287, 147, 285, 161], 'box_score': 0.9559815526008606, 'text': 'jcottages', 'text_score': 1.0666666666666667}, {'box': [180, 171, 181, 157, 208, 159, 207, 173], 'box_score': 0.9579461216926575, 'text': 'and', 'text_score': 1.0}, {'box': [213, 158, 279, 158, 279, 171, 213, 171], 'box_score': 0.9789628982543945, 'text': 'pioneered', 'text_score': 1.0}, {'box': [226, 177, 276, 174, 277, 186, 227, 189], 'box_score': 0.9821320176124573, 'text': 'cadets', 'text_score': 1.0}, {'box': [182, 188, 184, 175, 225, 180, 223, 193], 'box_score': 0.9740584492683411, 'text': 'army', 'text_score': 1.25}, {'box': [201, 190, 256, 190, 256, 206, 201, 206], 'box_score': 0.9747076630592346, 'text': '188790', 'text_score': 1.1666666666666667}, {'box': [178, 213, 184, 201, 208, 212, 203, 224], 'box_score': 0.9763814210891724, 'text': 'voted', 'text_score': 1.0}, {'box': [240, 214, 278, 199, 283, 213, 246, 228], 'box_score': 0.9473305940628052, 'text': 'hepeople', 'text_score': 1.0}, {'box': [208, 214, 222, 214, 222, 226, 208, 226], 'box_score': 0.9591458439826965, 'text': 'by', 'text_score': 1.0}, {'box': [223, 214, 240, 214, 240, 226, 223, 226], 'box_score': 0.9572067260742188, 'text': 'the', 'text_score': 1.0}]}]\n"
          ]
        }
      ]
    },
    {
      "cell_type": "markdown",
      "source": [
        "### Get bounding boxes list"
      ],
      "metadata": {
        "id": "bNimTDzD2oLY"
      }
    },
    {
      "cell_type": "code",
      "source": [
        "boxes = my_mmocr.bounding_boxes()\n",
        "print(\"Bounding box details:\")\n",
        "for box in boxes:\n",
        "  print(box)"
      ],
      "metadata": {
        "colab": {
          "base_uri": "https://localhost:8080/"
        },
        "id": "7O1v0rdbq3KV",
        "outputId": "8cf7bd82-5448-4010-cc89-c1664e657bbe"
      },
      "execution_count": 11,
      "outputs": [
        {
          "output_type": "stream",
          "name": "stdout",
          "text": [
            "Bounding box details:\n",
            "{'box': [191, 39, 239, 31, 241, 44, 193, 52], 'box_score': 0.9748765230178833, 'text': 'aborougho', 'text_score': 0.9753086419753088}\n",
            "{'box': [240, 34, 253, 34, 253, 45, 240, 45], 'box_score': 0.9292463660240173, 'text': 'iof', 'text_score': 1.3333333333333333}\n",
            "{'box': [252, 47, 259, 34, 308, 62, 301, 74], 'box_score': 0.9515694379806519, 'text': 'suat', 'text_score': 0.9583333333333334}\n",
            "{'box': [156, 60, 188, 41, 194, 52, 163, 71], 'box_score': 0.954505980014801, 'text': 'londonb', 'text_score': 1.0}\n",
            "{'box': [251, 79, 294, 76, 296, 97, 252, 99], 'box_score': 0.9551578164100647, 'text': 'hill', 'text_score': 1.0}\n",
            "{'box': [165, 78, 247, 78, 247, 99, 165, 99], 'box_score': 0.9459986686706543, 'text': 'octavia', 'text_score': 1.0}\n",
            "{'box': [165, 105, 216, 105, 216, 122, 165, 122], 'box_score': 0.9782547354698181, 'text': 'social', 'text_score': 1.0}\n",
            "{'box': [220, 105, 294, 105, 294, 122, 220, 122], 'box_score': 0.9601640701293945, 'text': 'reformer', 'text_score': 1.0}\n",
            "{'box': [150, 127, 226, 124, 227, 140, 150, 143], 'box_score': 0.9731660485267639, 'text': 'established', 'text_score': 1.0}\n",
            "{'box': [229, 128, 255, 128, 255, 141, 229, 141], 'box_score': 0.9750726819038391, 'text': 'this', 'text_score': 1.0}\n",
            "{'box': [262, 127, 304, 125, 305, 139, 262, 141], 'box_score': 0.9677677750587463, 'text': 'garden', 'text_score': 1.1666666666666667}\n",
            "{'box': [168, 142, 195, 142, 195, 156, 168, 156], 'box_score': 0.9712427854537964, 'text': 'hall', 'text_score': 1.0}\n",
            "{'box': [198, 142, 223, 142, 223, 156, 198, 156], 'box_score': 0.9310973286628723, 'text': 'and', 'text_score': 1.0}\n",
            "{'box': [227, 156, 229, 141, 287, 147, 285, 161], 'box_score': 0.9559815526008606, 'text': 'jcottages', 'text_score': 1.0666666666666667}\n",
            "{'box': [180, 171, 181, 157, 208, 159, 207, 173], 'box_score': 0.9579461216926575, 'text': 'and', 'text_score': 1.0}\n",
            "{'box': [213, 158, 279, 158, 279, 171, 213, 171], 'box_score': 0.9789628982543945, 'text': 'pioneered', 'text_score': 1.0}\n",
            "{'box': [226, 177, 276, 174, 277, 186, 227, 189], 'box_score': 0.9821320176124573, 'text': 'cadets', 'text_score': 1.0}\n",
            "{'box': [182, 188, 184, 175, 225, 180, 223, 193], 'box_score': 0.9740584492683411, 'text': 'army', 'text_score': 1.25}\n",
            "{'box': [201, 190, 256, 190, 256, 206, 201, 206], 'box_score': 0.9747076630592346, 'text': '188790', 'text_score': 1.1666666666666667}\n",
            "{'box': [178, 213, 184, 201, 208, 212, 203, 224], 'box_score': 0.9763814210891724, 'text': 'voted', 'text_score': 1.0}\n",
            "{'box': [240, 214, 278, 199, 283, 213, 246, 228], 'box_score': 0.9473305940628052, 'text': 'hepeople', 'text_score': 1.0}\n",
            "{'box': [208, 214, 222, 214, 222, 226, 208, 226], 'box_score': 0.9591458439826965, 'text': 'by', 'text_score': 1.0}\n",
            "{'box': [223, 214, 240, 214, 240, 226, 223, 226], 'box_score': 0.9572067260742188, 'text': 'the', 'text_score': 1.0}\n"
          ]
        }
      ]
    },
    {
      "cell_type": "markdown",
      "source": [
        "### Get bounding boxes's coordinates"
      ],
      "metadata": {
        "id": "M7DxEpi54xVG"
      }
    },
    {
      "cell_type": "code",
      "source": [
        "boxes_coordinates = my_mmocr.bounding_boxes_coordinates()\n",
        "print(\"4 corner coordinates:\")\n",
        "for box_corners in boxes_coordinates:\n",
        "  print(box_corners)"
      ],
      "metadata": {
        "colab": {
          "base_uri": "https://localhost:8080/"
        },
        "id": "yGsuFABLvYw4",
        "outputId": "3a64745c-0c0e-44ee-b78d-32707623af24"
      },
      "execution_count": 12,
      "outputs": [
        {
          "output_type": "stream",
          "name": "stdout",
          "text": [
            "4 corner coordinates:\n",
            "[191, 39, 239, 31, 241, 44, 193, 52]\n",
            "[240, 34, 253, 34, 253, 45, 240, 45]\n",
            "[252, 47, 259, 34, 308, 62, 301, 74]\n",
            "[156, 60, 188, 41, 194, 52, 163, 71]\n",
            "[251, 79, 294, 76, 296, 97, 252, 99]\n",
            "[165, 78, 247, 78, 247, 99, 165, 99]\n",
            "[165, 105, 216, 105, 216, 122, 165, 122]\n",
            "[220, 105, 294, 105, 294, 122, 220, 122]\n",
            "[150, 127, 226, 124, 227, 140, 150, 143]\n",
            "[229, 128, 255, 128, 255, 141, 229, 141]\n",
            "[262, 127, 304, 125, 305, 139, 262, 141]\n",
            "[168, 142, 195, 142, 195, 156, 168, 156]\n",
            "[198, 142, 223, 142, 223, 156, 198, 156]\n",
            "[227, 156, 229, 141, 287, 147, 285, 161]\n",
            "[180, 171, 181, 157, 208, 159, 207, 173]\n",
            "[213, 158, 279, 158, 279, 171, 213, 171]\n",
            "[226, 177, 276, 174, 277, 186, 227, 189]\n",
            "[182, 188, 184, 175, 225, 180, 223, 193]\n",
            "[201, 190, 256, 190, 256, 206, 201, 206]\n",
            "[178, 213, 184, 201, 208, 212, 203, 224]\n",
            "[240, 214, 278, 199, 283, 213, 246, 228]\n",
            "[208, 214, 222, 214, 222, 226, 208, 226]\n",
            "[223, 214, 240, 214, 240, 226, 223, 226]\n"
          ]
        }
      ]
    },
    {
      "cell_type": "markdown",
      "source": [
        "### Atterntion: We have to make dir first before we save cropped image\n",
        "### In this case, I saved all crop images in:\n",
        "/mmocr/outputs/crop_images"
      ],
      "metadata": {
        "id": "fYUbGHVj2FWg"
      }
    },
    {
      "cell_type": "code",
      "source": [
        "!mkdir /mmocr/outputs/crop_images\n",
        "my_mmocr.visualize_cropped_result(cropped_result_folder='/mmocr/outputs/crop_images/')"
      ],
      "metadata": {
        "colab": {
          "base_uri": "https://localhost:8080/",
          "height": 1000
        },
        "id": "6AbQ_Tz4vOwd",
        "outputId": "91d938d4-af96-4d23-e8ae-2cb64a06b2b3"
      },
      "execution_count": 13,
      "outputs": [
        {
          "output_type": "stream",
          "name": "stdout",
          "text": [
            "Cropped results saved at: /mmocr/outputs/crop_images/\n",
            "RESULTS:\n",
            "{'box': [191, 39, 239, 31, 241, 44, 193, 52], 'box_score': 0.9748765230178833, 'text': 'aborougho', 'text_score': 0.9753086419753088}\n",
            "/mmocr/outputs/crop_images/aborougho.jpg\n"
          ]
        },
        {
          "output_type": "display_data",
          "data": {
            "text/plain": [
              "<PIL.Image.Image image mode=RGB size=50x21 at 0x7F588964E3D0>"
            ],
            "image/png": "[encoded data removed]"
          },
          "metadata": {}
        },
        {
          "output_type": "stream",
          "name": "stdout",
          "text": [
            "--------------------//----------------------\n",
            "{'box': [240, 34, 253, 34, 253, 45, 240, 45], 'box_score': 0.9292463660240173, 'text': 'iof', 'text_score': 1.3333333333333333}\n",
            "/mmocr/outputs/crop_images/iof.jpg\n"
          ]
        },
        {
          "output_type": "display_data",
          "data": {
            "text/plain": [
              "<PIL.Image.Image image mode=RGB size=13x11 at 0x7F58892EDBD0>"
            ],
            "image/png": "[encoded data removed]"
          },
          "metadata": {}
        },
        {
          "output_type": "stream",
          "name": "stdout",
          "text": [
            "--------------------//----------------------\n",
            "{'box': [252, 47, 259, 34, 308, 62, 301, 74], 'box_score': 0.9515694379806519, 'text': 'suat', 'text_score': 0.9583333333333334}\n",
            "/mmocr/outputs/crop_images/suat.jpg\n"
          ]
        },
        {
          "output_type": "display_data",
          "data": {
            "text/plain": [
              "<PIL.Image.Image image mode=RGB size=56x40 at 0x7F5889630A10>"
            ],
            "image/png": "[encoded data removed]"
          },
          "metadata": {}
        },
        {
          "output_type": "stream",
          "name": "stdout",
          "text": [
            "--------------------//----------------------\n",
            "{'box': [156, 60, 188, 41, 194, 52, 163, 71], 'box_score': 0.954505980014801, 'text': 'londonb', 'text_score': 1.0}\n",
            "/mmocr/outputs/crop_images/londonb.jpg\n"
          ]
        },
        {
          "output_type": "display_data",
          "data": {
            "text/plain": [
              "<PIL.Image.Image image mode=RGB size=38x30 at 0x7F58897B1850>"
            ],
            "image/png": "[encoded data removed]"
          },
          "metadata": {}
        },
        {
          "output_type": "stream",
          "name": "stdout",
          "text": [
            "--------------------//----------------------\n",
            "{'box': [251, 79, 294, 76, 296, 97, 252, 99], 'box_score': 0.9551578164100647, 'text': 'hill', 'text_score': 1.0}\n",
            "/mmocr/outputs/crop_images/hill.jpg\n"
          ]
        },
        {
          "output_type": "display_data",
          "data": {
            "text/plain": [
              "<PIL.Image.Image image mode=RGB size=45x23 at 0x7F588964EBD0>"
            ],
            "image/png": "[encoded data removed]"
          },
          "metadata": {}
        },
        {
          "output_type": "stream",
          "name": "stdout",
          "text": [
            "--------------------//----------------------\n",
            "{'box': [165, 78, 247, 78, 247, 99, 165, 99], 'box_score': 0.9459986686706543, 'text': 'octavia', 'text_score': 1.0}\n",
            "/mmocr/outputs/crop_images/octavia.jpg\n"
          ]
        },
        {
          "output_type": "display_data",
          "data": {
            "text/plain": [
              "<PIL.Image.Image image mode=RGB size=82x21 at 0x7F58897B1810>"
            ],
            "image/png": "[encoded data removed]"
          },
          "metadata": {}
        },
        {
          "output_type": "stream",
          "name": "stdout",
          "text": [
            "--------------------//----------------------\n",
            "{'box': [165, 105, 216, 105, 216, 122, 165, 122], 'box_score': 0.9782547354698181, 'text': 'social', 'text_score': 1.0}\n",
            "/mmocr/outputs/crop_images/social.jpg\n"
          ]
        },
        {
          "output_type": "display_data",
          "data": {
            "text/plain": [
              "<PIL.Image.Image image mode=RGB size=51x17 at 0x7F58897D1D50>"
            ],
            "image/png": "[encoded data removed]"
          },
          "metadata": {}
        },
        {
          "output_type": "stream",
          "name": "stdout",
          "text": [
            "--------------------//----------------------\n",
            "{'box': [220, 105, 294, 105, 294, 122, 220, 122], 'box_score': 0.9601640701293945, 'text': 'reformer', 'text_score': 1.0}\n",
            "/mmocr/outputs/crop_images/reformer.jpg\n"
          ]
        },
        {
          "output_type": "display_data",
          "data": {
            "text/plain": [
              "<PIL.Image.Image image mode=RGB size=74x17 at 0x7F58897D1C50>"
            ],
            "image/png": "[encoded data removed]"
          },
          "metadata": {}
        },
        {
          "output_type": "stream",
          "name": "stdout",
          "text": [
            "--------------------//----------------------\n",
            "{'box': [150, 127, 226, 124, 227, 140, 150, 143], 'box_score': 0.9731660485267639, 'text': 'established', 'text_score': 1.0}\n",
            "/mmocr/outputs/crop_images/established.jpg\n"
          ]
        },
        {
          "output_type": "display_data",
          "data": {
            "text/plain": [
              "<PIL.Image.Image image mode=RGB size=77x19 at 0x7F58897D1B90>"
            ],
            "image/png": "[encoded data removed]"
          },
          "metadata": {}
        },
        {
          "output_type": "stream",
          "name": "stdout",
          "text": [
            "--------------------//----------------------\n",
            "{'box': [229, 128, 255, 128, 255, 141, 229, 141], 'box_score': 0.9750726819038391, 'text': 'this', 'text_score': 1.0}\n",
            "/mmocr/outputs/crop_images/this.jpg\n"
          ]
        },
        {
          "output_type": "display_data",
          "data": {
            "text/plain": [
              "<PIL.Image.Image image mode=RGB size=26x13 at 0x7F58897D1D10>"
            ],
            "image/png": "[encoded data removed]"
          },
          "metadata": {}
        },
        {
          "output_type": "stream",
          "name": "stdout",
          "text": [
            "--------------------//----------------------\n",
            "{'box': [262, 127, 304, 125, 305, 139, 262, 141], 'box_score': 0.9677677750587463, 'text': 'garden', 'text_score': 1.1666666666666667}\n",
            "/mmocr/outputs/crop_images/garden.jpg\n"
          ]
        },
        {
          "output_type": "display_data",
          "data": {
            "text/plain": [
              "<PIL.Image.Image image mode=RGB size=43x16 at 0x7F58897D1390>"
            ],
            "image/png": "[encoded data removed]"
          },
          "metadata": {}
        },
        {
          "output_type": "stream",
          "name": "stdout",
          "text": [
            "--------------------//----------------------\n",
            "{'box': [168, 142, 195, 142, 195, 156, 168, 156], 'box_score': 0.9712427854537964, 'text': 'hall', 'text_score': 1.0}\n",
            "/mmocr/outputs/crop_images/hall.jpg\n"
          ]
        },
        {
          "output_type": "display_data",
          "data": {
            "text/plain": [
              "<PIL.Image.Image image mode=RGB size=27x14 at 0x7F58897D1E50>"
            ],
            "image/png": "[encoded data removed]"
          },
          "metadata": {}
        },
        {
          "output_type": "stream",
          "name": "stdout",
          "text": [
            "--------------------//----------------------\n",
            "{'box': [198, 142, 223, 142, 223, 156, 198, 156], 'box_score': 0.9310973286628723, 'text': 'and', 'text_score': 1.0}\n",
            "/mmocr/outputs/crop_images/and.jpg\n"
          ]
        },
        {
          "output_type": "display_data",
          "data": {
            "text/plain": [
              "<PIL.Image.Image image mode=RGB size=25x14 at 0x7F58897D1BD0>"
            ],
            "image/png": "[encoded data removed]"
          },
          "metadata": {}
        },
        {
          "output_type": "stream",
          "name": "stdout",
          "text": [
            "--------------------//----------------------\n",
            "{'box': [227, 156, 229, 141, 287, 147, 285, 161], 'box_score': 0.9559815526008606, 'text': 'jcottages', 'text_score': 1.0666666666666667}\n",
            "/mmocr/outputs/crop_images/jcottages.jpg\n"
          ]
        },
        {
          "output_type": "display_data",
          "data": {
            "text/plain": [
              "<PIL.Image.Image image mode=RGB size=60x20 at 0x7F58897D1D50>"
            ],
            "image/png": "[encoded data removed]"
          },
          "metadata": {}
        },
        {
          "output_type": "stream",
          "name": "stdout",
          "text": [
            "--------------------//----------------------\n",
            "{'box': [180, 171, 181, 157, 208, 159, 207, 173], 'box_score': 0.9579461216926575, 'text': 'and', 'text_score': 1.0}\n",
            "/mmocr/outputs/crop_images/and.jpg\n"
          ]
        },
        {
          "output_type": "display_data",
          "data": {
            "text/plain": [
              "<PIL.Image.Image image mode=RGB size=28x16 at 0x7F58897D1ED0>"
            ],
            "image/png": "[encoded data removed]"
          },
          "metadata": {}
        },
        {
          "output_type": "stream",
          "name": "stdout",
          "text": [
            "--------------------//----------------------\n",
            "{'box': [213, 158, 279, 158, 279, 171, 213, 171], 'box_score': 0.9789628982543945, 'text': 'pioneered', 'text_score': 1.0}\n",
            "/mmocr/outputs/crop_images/pioneered.jpg\n"
          ]
        },
        {
          "output_type": "display_data",
          "data": {
            "text/plain": [
              "<PIL.Image.Image image mode=RGB size=66x13 at 0x7F58897D1CD0>"
            ],
            "image/png": "[encoded data removed]"
          },
          "metadata": {}
        },
        {
          "output_type": "stream",
          "name": "stdout",
          "text": [
            "--------------------//----------------------\n",
            "{'box': [226, 177, 276, 174, 277, 186, 227, 189], 'box_score': 0.9821320176124573, 'text': 'cadets', 'text_score': 1.0}\n",
            "/mmocr/outputs/crop_images/cadets.jpg\n"
          ]
        },
        {
          "output_type": "display_data",
          "data": {
            "text/plain": [
              "<PIL.Image.Image image mode=RGB size=51x15 at 0x7F588964E3D0>"
            ],
            "image/png": "[encoded data removed]"
          },
          "metadata": {}
        },
        {
          "output_type": "stream",
          "name": "stdout",
          "text": [
            "--------------------//----------------------\n",
            "{'box': [182, 188, 184, 175, 225, 180, 223, 193], 'box_score': 0.9740584492683411, 'text': 'army', 'text_score': 1.25}\n",
            "/mmocr/outputs/crop_images/army.jpg\n"
          ]
        },
        {
          "output_type": "display_data",
          "data": {
            "text/plain": [
              "<PIL.Image.Image image mode=RGB size=43x18 at 0x7F58897C0410>"
            ],
            "image/png": "[encoded data removed]"
          },
          "metadata": {}
        },
        {
          "output_type": "stream",
          "name": "stdout",
          "text": [
            "--------------------//----------------------\n",
            "{'box': [201, 190, 256, 190, 256, 206, 201, 206], 'box_score': 0.9747076630592346, 'text': '188790', 'text_score': 1.1666666666666667}\n",
            "/mmocr/outputs/crop_images/188790.jpg\n"
          ]
        },
        {
          "output_type": "display_data",
          "data": {
            "text/plain": [
              "<PIL.Image.Image image mode=RGB size=55x16 at 0x7F58897C0350>"
            ],
            "image/png": "[encoded data removed]"
          },
          "metadata": {}
        },
        {
          "output_type": "stream",
          "name": "stdout",
          "text": [
            "--------------------//----------------------\n",
            "{'box': [178, 213, 184, 201, 208, 212, 203, 224], 'box_score': 0.9763814210891724, 'text': 'voted', 'text_score': 1.0}\n",
            "/mmocr/outputs/crop_images/voted.jpg\n"
          ]
        },
        {
          "output_type": "display_data",
          "data": {
            "text/plain": [
              "<PIL.Image.Image image mode=RGB size=30x23 at 0x7F58897C00D0>"
            ],
            "image/png": "[encoded data removed]"
          },
          "metadata": {}
        },
        {
          "output_type": "stream",
          "name": "stdout",
          "text": [
            "--------------------//----------------------\n",
            "{'box': [240, 214, 278, 199, 283, 213, 246, 228], 'box_score': 0.9473305940628052, 'text': 'hepeople', 'text_score': 1.0}\n",
            "/mmocr/outputs/crop_images/hepeople.jpg\n"
          ]
        },
        {
          "output_type": "display_data",
          "data": {
            "text/plain": [
              "<PIL.Image.Image image mode=RGB size=43x29 at 0x7F58897C02D0>"
            ],
            "image/png": "[encoded data removed]"
          },
          "metadata": {}
        },
        {
          "output_type": "stream",
          "name": "stdout",
          "text": [
            "--------------------//----------------------\n",
            "{'box': [208, 214, 222, 214, 222, 226, 208, 226], 'box_score': 0.9591458439826965, 'text': 'by', 'text_score': 1.0}\n",
            "/mmocr/outputs/crop_images/by.jpg\n"
          ]
        },
        {
          "output_type": "display_data",
          "data": {
            "text/plain": [
              "<PIL.Image.Image image mode=RGB size=14x12 at 0x7F58897C01D0>"
            ],
            "image/png": "[encoded data removed]"
          },
          "metadata": {}
        },
        {
          "output_type": "stream",
          "name": "stdout",
          "text": [
            "--------------------//----------------------\n",
            "{'box': [223, 214, 240, 214, 240, 226, 223, 226], 'box_score': 0.9572067260742188, 'text': 'the', 'text_score': 1.0}\n",
            "/mmocr/outputs/crop_images/the.jpg\n"
          ]
        },
        {
          "output_type": "display_data",
          "data": {
            "text/plain": [
              "<PIL.Image.Image image mode=RGB size=17x12 at 0x7F58897C0590>"
            ],
            "image/png": "[encoded data removed]"
          },
          "metadata": {}
        },
        {
          "output_type": "stream",
          "name": "stdout",
          "text": [
            "--------------------//----------------------\n"
          ]
        }
      ]
    }
  ]
}
