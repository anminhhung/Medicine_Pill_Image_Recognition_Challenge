{
 "cells": [
  {
   "cell_type": "code",
   "execution_count": 3,
   "metadata": {},
   "outputs": [],
   "source": [
    "import numpy as np\n",
    "import math\n",
    "from audioop import reverse"
   ]
  },
  {
   "cell_type": "markdown",
   "metadata": {},
   "source": [
    "Levenshtein distance (The minimum edit distance between two strings is the minimum numer of editing operations needed to convert one string into another<thêm, xóa, sửa>: https://en.wikipedia.org/wiki/Levenshtein_distance).\n",
    "\n",
    "Quy Hoạch Động\n",
    "\n",
    "Giả sử từ điển mình có N chuỗi, mỗi chuỗi có độ dài M. Đưa một chuỗi có độ dài T vào. Độ phức tạp để xuất ra top k sẽ là (O(NMT))."
   ]
  },
  {
   "cell_type": "code",
   "execution_count": 4,
   "metadata": {},
   "outputs": [],
   "source": [
    "def LCS(s,t):\n",
    "    \"\"\"Return Levenshtein Distance of 2 strings s and t\"\"\"\n",
    "    \"\"\"\n",
    "    s, t: input strings\n",
    "    \"\"\"\n",
    "    inf=1e9\n",
    "    n=len(s)\n",
    "    m=len(t)\n",
    "    d=np.full((n + 1 , m + 1), inf)\n",
    "    for i in range(n+1):\n",
    "        d[i,0]=i\n",
    "    for j in range(m+1):\n",
    "        d[0,j]=j\n",
    "    for i in range(1,n+1):\n",
    "        for j in range(1,m+1):\n",
    "            if(s[i-1]==t[j-1]):\n",
    "                d[i,j]=d[i-1,j-1]\n",
    "            else:\n",
    "                d[i,j]=min(d[i,j],min(d[i - 1,j] + 1, min(d[i,j - 1] + 1, d[i - 1,j - 1] + 1)))\n",
    "    return int(d[n,m])"
   ]
  },
  {
   "cell_type": "code",
   "execution_count": 5,
   "metadata": {},
   "outputs": [
    {
     "data": {
      "text/plain": [
       "13"
      ]
     },
     "execution_count": 5,
     "metadata": {},
     "output_type": "execute_result"
    }
   ],
   "source": [
    "LCS('SQTCKWAMFJEBV','IUWGGNJOMQFP')"
   ]
  },
  {
   "cell_type": "code",
   "execution_count": 12,
   "metadata": {},
   "outputs": [],
   "source": [
    "def topk_bestmatch(ground_truth, input_string, k):\n",
    "    \"\"\"Return numpy array indices of topk strings in ground_truth set\"\"\"\n",
    "    \"\"\"\n",
    "    ground_truth: array of strings\n",
    "    input_string: input string to calc Levenshtein Distance\n",
    "    k           : top k of indices\n",
    "    \"\"\"\n",
    "    result=np.array([])\n",
    "    for components in ground_truth:\n",
    "        result=np.append(result,np.array([-LCS(components,input_string)]))\n",
    "    ind = np.argpartition(result, -k)[-k:]\n",
    "    ind = ind[np.argsort(result[ind])]\n",
    "    ind = ind[::-1]\n",
    "    topk = ind\n",
    "    return topk, -result[topk]"
   ]
  },
  {
   "cell_type": "code",
   "execution_count": 17,
   "metadata": {},
   "outputs": [
    {
     "name": "stdout",
     "output_type": "stream",
     "text": [
      "[1 4 5 3]\n",
      "[ 0  9 11 12]\n",
      "Nguyen Duc Anh Phuc 0\n",
      "Nguyen Duc 9\n",
      "Duc Phuc 11\n",
      "Duc Anh 12\n"
     ]
    }
   ],
   "source": [
    "gds = np.array(['Hi','Nguyen Duc Anh Phuc','Nguyen','Duc Anh','Nguyen Duc', 'Duc Phuc','Phuc Nguyen'])\n",
    "indices, score = topk_bestmatch(gds,'Nguyen Duc Anh Phuc',4)\n",
    "indices=indices.astype(np.uint64)\n",
    "score = score.astype(np.uint64)\n",
    "\n",
    "print (indices)\n",
    "print (score)\n",
    "for i in range(len(indices)):\n",
    "    print(gds[indices[i]], score[i])"
   ]
  }
 ],
 "metadata": {
  "kernelspec": {
   "display_name": "Python 3.10.1 64-bit (system)",
   "language": "python",
   "name": "python3"
  },
  "language_info": {
   "codemirror_mode": {
    "name": "ipython",
    "version": 3
   },
   "file_extension": ".py",
   "mimetype": "text/x-python",
   "name": "python",
   "nbconvert_exporter": "python",
   "pygments_lexer": "ipython3",
   "version": "3.10.1"
  },
  "orig_nbformat": 4,
  "vscode": {
   "interpreter": {
    "hash": "840baa4c7b1344b918e258b3ed5411f71588a91c20741665e64037285e2d4a52"
   }
  }
 },
 "nbformat": 4,
 "nbformat_minor": 2
}
