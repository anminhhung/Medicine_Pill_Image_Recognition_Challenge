{
 "cells": [
  {
   "cell_type": "code",
   "execution_count": 15,
   "metadata": {},
   "outputs": [
    {
     "name": "stdout",
     "output_type": "stream",
     "text": [
      "C:\\Users\\Admin\\Desktop\\Course\\AIO2022\\Team Hung An\\Medicine_Pill_Image_Recognition_Challenge\n"
     ]
    }
   ],
   "source": [
    "import os\n",
    "import json\n",
    "import cv2\n",
    "import numpy as np\n",
    "import pandas as pd\n",
    "import pathlib\n",
    "import math\n",
    "import difflib\n",
    "from PIL import Image, ImageDraw, ImageFont\n",
    "\n",
    "\n",
    "print(pathlib.Path().resolve())\n",
    "pres_label_path = \"Data/prescription/label/\"\n",
    "pres_image_path = \"Data/prescription/image/\"\n",
    "\n",
    "dst = \"Data/prescription/results/\"\n",
    "mapping_file = \"Data/pill_categories/label-name.csv\""
   ]
  },
  {
   "cell_type": "code",
   "execution_count": null,
   "metadata": {},
   "outputs": [],
   "source": [
    "def write_text(image, result_text, point):\n",
    "    pil_img = Image.fromarray(cv2.cvtColor(image, cv2.COLOR_BGR2RGB))\n",
    "    # font_text = ImageFont.truetype(\"arial.ttf\", 30)\n",
    "\n",
    "    font_text = ImageFont.truetype(\"Data/Data-visualization/font/SVN-Arial-Regular.ttf\", 20)\n",
    "\n",
    "    draw =  ImageDraw.Draw(pil_img)\n",
    "    point = (point[0], int(point[1]-20))\n",
    "    draw.text(point, result_text, (255, 0, 0), font=font_text)\n",
    "    cv2_img = cv2.cvtColor(np.asarray(pil_img), cv2.COLOR_RGB2BGR)\n",
    "    return cv2_img\n",
    "\n",
    "\n",
    "df = pd.read_csv(mapping_file)\n",
    "cells = df['Drug name'].tolist()\n",
    "AllDrugnames = []\n",
    "for cell in cells:\n",
    "    try:\n",
    "        names = cell.split(\" || \")\n",
    "        for name in names:\n",
    "            print(\"'\"+name+\"'\")\n",
    "            AllDrugnames.append(name)\n",
    "    except:\n",
    "        if math.isnan(cell):\n",
    "            print(cell)\n",
    "\n",
    "\n",
    "for index, pres_json_file in enumerate(os.listdir(pres_label_path)):\n",
    "    pres_json_path = os.path.join(pres_label_path, pres_json_file)\n",
    "    json_f = open(pres_json_path, mode='r', encoding='utf-8')\n",
    "    pres_data = json.load(json_f)\n",
    "\n",
    "    pres_img_path = os.path.join(pres_image_path, pres_json_file.replace(\"json\", \"png\"))\n",
    "    pres_image = cv2.imread(pres_img_path)\n",
    "    # print(pres_json_file.replace(\"json\", \"jpg\"))\n",
    "    # print(pres_img_path)\n",
    "\n",
    "    print(40*\"+\")\n",
    "    for obj_bbox in pres_data:\n",
    "        id = obj_bbox[\"id\"]\n",
    "        text = obj_bbox[\"text\"]\n",
    "        label = obj_bbox[\"label\"]\n",
    "        bbox = obj_bbox[\"box\"] \n",
    "        mapping = \"\"\n",
    "        if(label ==\"drugname\"):\n",
    "            mapping = obj_bbox[\"mapping\"]\n",
    "        if label == \"drugname\":\n",
    "            print(\"label: \", text)\n",
    "\n",
    "        # Key information extraction by rule\n",
    "        if len(text) > 7:\n",
    "            prob = difflib.SequenceMatcher(None, text[:10], \"Chuẩn đoán\").ratio()\n",
    "            print(f'text[:10]: {text[:9]}, prob: {prob}')\n",
    "            if prob > 0.7:\n",
    "                diagnoses = text\n",
    "                pres_image = cv2.rectangle(pres_image, (bbox[0], bbox[1]), (bbox[2], bbox[3]), (0, 0, 255), 1)\n",
    "                pres_image = write_text(pres_image, \"diagnose: \"+text, (bbox[0], bbox[1]))\n",
    "            else:\n",
    "                drugnames_predict = difflib.get_close_matches(text, AllDrugnames)\n",
    "                probs = []\n",
    "                for name in drugnames_predict:\n",
    "                    prob = difflib.SequenceMatcher(None, text, name).ratio()\n",
    "                    probs.append(prob)\n",
    "                if drugnames_predict != []:\n",
    "                    drugname = drugnames_predict[np.argmax(probs)]\n",
    "                    # print(\"drugnames_predict: \", drugnames_predict)\n",
    "                    # print(\"label predict: \", drugname)\n",
    "                    pres_image = cv2.rectangle(pres_image, (bbox[0], bbox[1]), (bbox[2], bbox[3]), (255, 0, 255), 1)\n",
    "                    pres_image = write_text(pres_image, \"drugname: \"+text, (bbox[0], bbox[1]))\n",
    "\n",
    "    cv2.imwrite(dst+pres_json_file.replace(\"json\", \"png\"), pres_image)\n",
    "\n",
    "#     cv2.imshow(\"pres\", pres_image)\n",
    "#     if cv2.waitKey(0) == ord('q'):\n",
    "#         break\n",
    "# cv2.destroyAllWindows()"
   ]
  },
  {
   "cell_type": "code",
   "execution_count": null,
   "metadata": {},
   "outputs": [],
   "source": []
  }
 ],
 "metadata": {
  "kernelspec": {
   "display_name": "Python 3.7.6 64-bit",
   "language": "python",
   "name": "python3"
  },
  "language_info": {
   "codemirror_mode": {
    "name": "ipython",
    "version": 3
   },
   "file_extension": ".py",
   "mimetype": "text/x-python",
   "name": "python",
   "nbconvert_exporter": "python",
   "pygments_lexer": "ipython3",
   "version": "3.7.6"
  },
  "orig_nbformat": 4,
  "vscode": {
   "interpreter": {
    "hash": "d49c3f6d6dd49f9272b571d9fad348ab55b8c6c3f691520d74ed0af1f69c3dd8"
   }
  }
 },
 "nbformat": 4,
 "nbformat_minor": 2
}
