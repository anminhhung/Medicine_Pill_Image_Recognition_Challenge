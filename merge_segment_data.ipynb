{
 "cells": [
  {
   "cell_type": "code",
   "execution_count": 1,
   "metadata": {},
   "outputs": [
    {
     "name": "stdout",
     "output_type": "stream",
     "text": [
      "c:\\Users\\Admin\\Desktop\\Course\\AIO2022\\TeamHungAn\\Medicine_Pill_Image_Recognition_Challenge_pineline/data/\n"
     ]
    }
   ],
   "source": [
    "import os\n",
    "import cv2\n",
    "import json\n",
    "import imutils\n",
    "from prescription.config import output_path, INPUT_ROOT, OUTPUT_ROOT\n",
    "import random\n",
    "import shutil\n",
    "import csv\n",
    "from config import  *\n",
    "import pandas as pd\n",
    "import difflib\n",
    "import math\n",
    "import numpy as np"
   ]
  },
  {
   "cell_type": "markdown",
   "metadata": {},
   "source": [
    "# Merge json sementation data"
   ]
  },
  {
   "cell_type": "code",
   "execution_count": 10,
   "metadata": {},
   "outputs": [
    {
     "name": "stdout",
     "output_type": "stream",
     "text": [
      "Find 1686 images ...\n",
      "all data was merge !\n"
     ]
    }
   ],
   "source": [
    "src = INPUT_ROOT + \"segment_data/\"\n",
    "\n",
    "images = []\n",
    "categories = [\n",
    "                {\n",
    "                    \"id\": 0,\n",
    "                    \"name\": \"pill\",\n",
    "                    \"supercategory\": \"None\"\n",
    "                }\n",
    "            ]\n",
    "annotations = []\n",
    "\n",
    "img_list = []\n",
    "for file in os.listdir(src):\n",
    "    if \"json\" in file and file != 'all_segmentation.json':\n",
    "        json_f = open(src + file, mode='r', encoding='utf-8')\n",
    "        data = json.load(json_f)\n",
    "        images_info = data['images']\n",
    "        annotations_info = data['annotations']\n",
    "\n",
    "        for index, image_info in enumerate(images_info):\n",
    "            name = image_info['file_name']\n",
    "            if name not in img_list:\n",
    "                img_list.append(name)\n",
    "                images.append(image_info)\n",
    "                annotations.append(annotations_info[index])\n",
    "        json_f.close()\n",
    "\n",
    "merge_data = {\n",
    "    \"images\": images,\n",
    "    \"categories\": categories,\n",
    "    \"annotations\": annotations,\n",
    "}\n",
    "print(f'Find {len(img_list)} images ...')\n",
    "with open(src + 'all_segmentation.json', mode='w') as outfile:\n",
    "    json.dump(merge_data, outfile, indent=4)\n",
    "    print(\"all data was merge !\")\n"
   ]
  },
  {
   "cell_type": "code",
   "execution_count": null,
   "metadata": {},
   "outputs": [],
   "source": []
  }
 ],
 "metadata": {
  "kernelspec": {
   "display_name": "Python 3.7.6 64-bit",
   "language": "python",
   "name": "python3"
  },
  "language_info": {
   "codemirror_mode": {
    "name": "ipython",
    "version": 3
   },
   "file_extension": ".py",
   "mimetype": "text/x-python",
   "name": "python",
   "nbconvert_exporter": "python",
   "pygments_lexer": "ipython3",
   "version": "3.7.6"
  },
  "orig_nbformat": 4,
  "vscode": {
   "interpreter": {
    "hash": "d49c3f6d6dd49f9272b571d9fad348ab55b8c6c3f691520d74ed0af1f69c3dd8"
   }
  }
 },
 "nbformat": 4,
 "nbformat_minor": 2
}
